{
  "nbformat": 4,
  "nbformat_minor": 0,
  "metadata": {
    "colab": {
      "name": "Case_genial_RF_Parameter-Optimization_22_06_09_ucf3.ipynb",
      "provenance": [],
      "collapsed_sections": [],
      "include_colab_link": true
    },
    "kernelspec": {
      "name": "python3",
      "display_name": "Python 3"
    },
    "language_info": {
      "name": "python"
    }
  },
  "cells": [
    {
      "cell_type": "markdown",
      "metadata": {
        "id": "view-in-github",
        "colab_type": "text"
      },
      "source": [
        "<a href=\"https://colab.research.google.com/github/OpenMindPB/BasicPython/blob/main/Case_genial_RF_Parameter_Optimization_22_06_09_ucf3.ipynb\" target=\"_parent\"><img src=\"https://colab.research.google.com/assets/colab-badge.svg\" alt=\"Open In Colab\"/></a>"
      ]
    },
    {
      "cell_type": "markdown",
      "source": [
        "# **Instalando e importando bibliotecas**"
      ],
      "metadata": {
        "id": "V3sQJtI5nqMH"
      }
    },
    {
      "cell_type": "code",
      "source": [
        "import numpy as np\n",
        "import pandas as pd\n",
        "import matplotlib.pyplot as plt\n",
        "import seaborn as sns\n",
        "from sklearn.preprocessing import MinMaxScaler\n",
        "from sklearn.model_selection import train_test_split\n",
        "from sklearn.metrics import accuracy_score, precision_score, recall_score, f1_score\n",
        "from sklearn import datasets as ds\n",
        "from sklearn.ensemble import RandomForestClassifier\n",
        "from sklearn import tree\n",
        "from sklearn.linear_model import LogisticRegression\n",
        "import xgboost as xgb\n",
        "from lightgbm import LGBMClassifier\n",
        "from sklearn.neural_network import MLPClassifier\n",
        "from xgboost import XGBClassifier\n",
        "from xgboost import plot_importance\n",
        "from lightgbm import LGBMClassifier\n",
        "from sklearn.model_selection import GridSearchCV"
      ],
      "metadata": {
        "id": "CfycW6f9YoAe"
      },
      "execution_count": 1,
      "outputs": []
    },
    {
      "cell_type": "markdown",
      "source": [
        "#**Coleta de dados**"
      ],
      "metadata": {
        "id": "_fVWF9clnBLW"
      }
    },
    {
      "cell_type": "code",
      "execution_count": 2,
      "metadata": {
        "id": "bSL4xBDHYex4",
        "colab": {
          "base_uri": "https://localhost:8080/",
          "height": 424
        },
        "outputId": "c943dfe8-e920-4de2-a9ae-fb5c4dc28cf7"
      },
      "outputs": [
        {
          "output_type": "execute_result",
          "data": {
            "text/plain": [
              "         date day    period  nswprice  nswdemand  vicprice  vicdemand  \\\n",
              "0      0.0000   2  0.000000  0.056443   0.439155  0.003467   0.422915   \n",
              "1      0.0000   2  0.021277  0.051699   0.415055  0.003467   0.422915   \n",
              "2      0.0000   2  0.042553  0.051489   0.385004  0.003467   0.422915   \n",
              "3      0.0000   2  0.063830  0.045485   0.314639  0.003467   0.422915   \n",
              "4      0.0000   2  0.085106  0.042482   0.251116  0.003467   0.422915   \n",
              "...       ...  ..       ...       ...        ...       ...        ...   \n",
              "45307  0.9158   7  0.914894  0.044224   0.340672  0.003033   0.255049   \n",
              "45308  0.9158   7  0.936170  0.044884   0.355549  0.003072   0.241326   \n",
              "45309  0.9158   7  0.957447  0.043593   0.340970  0.002983   0.247799   \n",
              "45310  0.9158   7  0.978723  0.066651   0.329366  0.004630   0.345417   \n",
              "45311  0.9158   7  1.000000  0.050679   0.288753  0.003542   0.355256   \n",
              "\n",
              "       transfer class  target  \n",
              "0      0.414912    UP       1  \n",
              "1      0.414912    UP       1  \n",
              "2      0.414912    UP       1  \n",
              "3      0.414912    UP       1  \n",
              "4      0.414912  DOWN       0  \n",
              "...         ...   ...     ...  \n",
              "45307  0.405263  DOWN       0  \n",
              "45308  0.420614  DOWN       0  \n",
              "45309  0.362281  DOWN       0  \n",
              "45310  0.206579    UP       1  \n",
              "45311  0.231140  DOWN       0  \n",
              "\n",
              "[45312 rows x 10 columns]"
            ],
            "text/html": [
              "\n",
              "  <div id=\"df-b29dc3fe-fabf-440e-9375-b8e4370ec535\">\n",
              "    <div class=\"colab-df-container\">\n",
              "      <div>\n",
              "<style scoped>\n",
              "    .dataframe tbody tr th:only-of-type {\n",
              "        vertical-align: middle;\n",
              "    }\n",
              "\n",
              "    .dataframe tbody tr th {\n",
              "        vertical-align: top;\n",
              "    }\n",
              "\n",
              "    .dataframe thead th {\n",
              "        text-align: right;\n",
              "    }\n",
              "</style>\n",
              "<table border=\"1\" class=\"dataframe\">\n",
              "  <thead>\n",
              "    <tr style=\"text-align: right;\">\n",
              "      <th></th>\n",
              "      <th>date</th>\n",
              "      <th>day</th>\n",
              "      <th>period</th>\n",
              "      <th>nswprice</th>\n",
              "      <th>nswdemand</th>\n",
              "      <th>vicprice</th>\n",
              "      <th>vicdemand</th>\n",
              "      <th>transfer</th>\n",
              "      <th>class</th>\n",
              "      <th>target</th>\n",
              "    </tr>\n",
              "  </thead>\n",
              "  <tbody>\n",
              "    <tr>\n",
              "      <th>0</th>\n",
              "      <td>0.0000</td>\n",
              "      <td>2</td>\n",
              "      <td>0.000000</td>\n",
              "      <td>0.056443</td>\n",
              "      <td>0.439155</td>\n",
              "      <td>0.003467</td>\n",
              "      <td>0.422915</td>\n",
              "      <td>0.414912</td>\n",
              "      <td>UP</td>\n",
              "      <td>1</td>\n",
              "    </tr>\n",
              "    <tr>\n",
              "      <th>1</th>\n",
              "      <td>0.0000</td>\n",
              "      <td>2</td>\n",
              "      <td>0.021277</td>\n",
              "      <td>0.051699</td>\n",
              "      <td>0.415055</td>\n",
              "      <td>0.003467</td>\n",
              "      <td>0.422915</td>\n",
              "      <td>0.414912</td>\n",
              "      <td>UP</td>\n",
              "      <td>1</td>\n",
              "    </tr>\n",
              "    <tr>\n",
              "      <th>2</th>\n",
              "      <td>0.0000</td>\n",
              "      <td>2</td>\n",
              "      <td>0.042553</td>\n",
              "      <td>0.051489</td>\n",
              "      <td>0.385004</td>\n",
              "      <td>0.003467</td>\n",
              "      <td>0.422915</td>\n",
              "      <td>0.414912</td>\n",
              "      <td>UP</td>\n",
              "      <td>1</td>\n",
              "    </tr>\n",
              "    <tr>\n",
              "      <th>3</th>\n",
              "      <td>0.0000</td>\n",
              "      <td>2</td>\n",
              "      <td>0.063830</td>\n",
              "      <td>0.045485</td>\n",
              "      <td>0.314639</td>\n",
              "      <td>0.003467</td>\n",
              "      <td>0.422915</td>\n",
              "      <td>0.414912</td>\n",
              "      <td>UP</td>\n",
              "      <td>1</td>\n",
              "    </tr>\n",
              "    <tr>\n",
              "      <th>4</th>\n",
              "      <td>0.0000</td>\n",
              "      <td>2</td>\n",
              "      <td>0.085106</td>\n",
              "      <td>0.042482</td>\n",
              "      <td>0.251116</td>\n",
              "      <td>0.003467</td>\n",
              "      <td>0.422915</td>\n",
              "      <td>0.414912</td>\n",
              "      <td>DOWN</td>\n",
              "      <td>0</td>\n",
              "    </tr>\n",
              "    <tr>\n",
              "      <th>...</th>\n",
              "      <td>...</td>\n",
              "      <td>...</td>\n",
              "      <td>...</td>\n",
              "      <td>...</td>\n",
              "      <td>...</td>\n",
              "      <td>...</td>\n",
              "      <td>...</td>\n",
              "      <td>...</td>\n",
              "      <td>...</td>\n",
              "      <td>...</td>\n",
              "    </tr>\n",
              "    <tr>\n",
              "      <th>45307</th>\n",
              "      <td>0.9158</td>\n",
              "      <td>7</td>\n",
              "      <td>0.914894</td>\n",
              "      <td>0.044224</td>\n",
              "      <td>0.340672</td>\n",
              "      <td>0.003033</td>\n",
              "      <td>0.255049</td>\n",
              "      <td>0.405263</td>\n",
              "      <td>DOWN</td>\n",
              "      <td>0</td>\n",
              "    </tr>\n",
              "    <tr>\n",
              "      <th>45308</th>\n",
              "      <td>0.9158</td>\n",
              "      <td>7</td>\n",
              "      <td>0.936170</td>\n",
              "      <td>0.044884</td>\n",
              "      <td>0.355549</td>\n",
              "      <td>0.003072</td>\n",
              "      <td>0.241326</td>\n",
              "      <td>0.420614</td>\n",
              "      <td>DOWN</td>\n",
              "      <td>0</td>\n",
              "    </tr>\n",
              "    <tr>\n",
              "      <th>45309</th>\n",
              "      <td>0.9158</td>\n",
              "      <td>7</td>\n",
              "      <td>0.957447</td>\n",
              "      <td>0.043593</td>\n",
              "      <td>0.340970</td>\n",
              "      <td>0.002983</td>\n",
              "      <td>0.247799</td>\n",
              "      <td>0.362281</td>\n",
              "      <td>DOWN</td>\n",
              "      <td>0</td>\n",
              "    </tr>\n",
              "    <tr>\n",
              "      <th>45310</th>\n",
              "      <td>0.9158</td>\n",
              "      <td>7</td>\n",
              "      <td>0.978723</td>\n",
              "      <td>0.066651</td>\n",
              "      <td>0.329366</td>\n",
              "      <td>0.004630</td>\n",
              "      <td>0.345417</td>\n",
              "      <td>0.206579</td>\n",
              "      <td>UP</td>\n",
              "      <td>1</td>\n",
              "    </tr>\n",
              "    <tr>\n",
              "      <th>45311</th>\n",
              "      <td>0.9158</td>\n",
              "      <td>7</td>\n",
              "      <td>1.000000</td>\n",
              "      <td>0.050679</td>\n",
              "      <td>0.288753</td>\n",
              "      <td>0.003542</td>\n",
              "      <td>0.355256</td>\n",
              "      <td>0.231140</td>\n",
              "      <td>DOWN</td>\n",
              "      <td>0</td>\n",
              "    </tr>\n",
              "  </tbody>\n",
              "</table>\n",
              "<p>45312 rows × 10 columns</p>\n",
              "</div>\n",
              "      <button class=\"colab-df-convert\" onclick=\"convertToInteractive('df-b29dc3fe-fabf-440e-9375-b8e4370ec535')\"\n",
              "              title=\"Convert this dataframe to an interactive table.\"\n",
              "              style=\"display:none;\">\n",
              "        \n",
              "  <svg xmlns=\"http://www.w3.org/2000/svg\" height=\"24px\"viewBox=\"0 0 24 24\"\n",
              "       width=\"24px\">\n",
              "    <path d=\"M0 0h24v24H0V0z\" fill=\"none\"/>\n",
              "    <path d=\"M18.56 5.44l.94 2.06.94-2.06 2.06-.94-2.06-.94-.94-2.06-.94 2.06-2.06.94zm-11 1L8.5 8.5l.94-2.06 2.06-.94-2.06-.94L8.5 2.5l-.94 2.06-2.06.94zm10 10l.94 2.06.94-2.06 2.06-.94-2.06-.94-.94-2.06-.94 2.06-2.06.94z\"/><path d=\"M17.41 7.96l-1.37-1.37c-.4-.4-.92-.59-1.43-.59-.52 0-1.04.2-1.43.59L10.3 9.45l-7.72 7.72c-.78.78-.78 2.05 0 2.83L4 21.41c.39.39.9.59 1.41.59.51 0 1.02-.2 1.41-.59l7.78-7.78 2.81-2.81c.8-.78.8-2.07 0-2.86zM5.41 20L4 18.59l7.72-7.72 1.47 1.35L5.41 20z\"/>\n",
              "  </svg>\n",
              "      </button>\n",
              "      \n",
              "  <style>\n",
              "    .colab-df-container {\n",
              "      display:flex;\n",
              "      flex-wrap:wrap;\n",
              "      gap: 12px;\n",
              "    }\n",
              "\n",
              "    .colab-df-convert {\n",
              "      background-color: #E8F0FE;\n",
              "      border: none;\n",
              "      border-radius: 50%;\n",
              "      cursor: pointer;\n",
              "      display: none;\n",
              "      fill: #1967D2;\n",
              "      height: 32px;\n",
              "      padding: 0 0 0 0;\n",
              "      width: 32px;\n",
              "    }\n",
              "\n",
              "    .colab-df-convert:hover {\n",
              "      background-color: #E2EBFA;\n",
              "      box-shadow: 0px 1px 2px rgba(60, 64, 67, 0.3), 0px 1px 3px 1px rgba(60, 64, 67, 0.15);\n",
              "      fill: #174EA6;\n",
              "    }\n",
              "\n",
              "    [theme=dark] .colab-df-convert {\n",
              "      background-color: #3B4455;\n",
              "      fill: #D2E3FC;\n",
              "    }\n",
              "\n",
              "    [theme=dark] .colab-df-convert:hover {\n",
              "      background-color: #434B5C;\n",
              "      box-shadow: 0px 1px 3px 1px rgba(0, 0, 0, 0.15);\n",
              "      filter: drop-shadow(0px 1px 2px rgba(0, 0, 0, 0.3));\n",
              "      fill: #FFFFFF;\n",
              "    }\n",
              "  </style>\n",
              "\n",
              "      <script>\n",
              "        const buttonEl =\n",
              "          document.querySelector('#df-b29dc3fe-fabf-440e-9375-b8e4370ec535 button.colab-df-convert');\n",
              "        buttonEl.style.display =\n",
              "          google.colab.kernel.accessAllowed ? 'block' : 'none';\n",
              "\n",
              "        async function convertToInteractive(key) {\n",
              "          const element = document.querySelector('#df-b29dc3fe-fabf-440e-9375-b8e4370ec535');\n",
              "          const dataTable =\n",
              "            await google.colab.kernel.invokeFunction('convertToInteractive',\n",
              "                                                     [key], {});\n",
              "          if (!dataTable) return;\n",
              "\n",
              "          const docLinkHtml = 'Like what you see? Visit the ' +\n",
              "            '<a target=\"_blank\" href=https://colab.research.google.com/notebooks/data_table.ipynb>data table notebook</a>'\n",
              "            + ' to learn more about interactive tables.';\n",
              "          element.innerHTML = '';\n",
              "          dataTable['output_type'] = 'display_data';\n",
              "          await google.colab.output.renderOutput(dataTable, element);\n",
              "          const docLink = document.createElement('div');\n",
              "          docLink.innerHTML = docLinkHtml;\n",
              "          element.appendChild(docLink);\n",
              "        }\n",
              "      </script>\n",
              "    </div>\n",
              "  </div>\n",
              "  "
            ]
          },
          "metadata": {},
          "execution_count": 2
        }
      ],
      "source": [
        "data = ds.fetch_openml(data_id=151, as_frame=True, return_X_y=True)\n",
        "\n",
        "(\n",
        "\n",
        "    pd.concat(data, axis=1)\n",
        "\n",
        "    .assign(target=lambda x: (x['class']=='UP')*1)\n",
        "\n",
        ")"
      ]
    },
    {
      "cell_type": "markdown",
      "source": [
        "Trata-se de um problema de classificação binária."
      ],
      "metadata": {
        "id": "wRFPdhz98Bge"
      }
    },
    {
      "cell_type": "markdown",
      "source": [
        "# **Pré-processamento**"
      ],
      "metadata": {
        "id": "x6cPKx7ZSbEL"
      }
    },
    {
      "cell_type": "code",
      "source": [
        "#print(data.DESCR)"
      ],
      "metadata": {
        "id": "1rz-hzVuIiq5"
      },
      "execution_count": 3,
      "outputs": []
    },
    {
      "cell_type": "code",
      "source": [
        "type(data)"
      ],
      "metadata": {
        "id": "a12Y9UMY22R_",
        "colab": {
          "base_uri": "https://localhost:8080/"
        },
        "outputId": "c4134b50-6f60-4cc3-c7db-a77ddb8d8fd9"
      },
      "execution_count": 4,
      "outputs": [
        {
          "output_type": "execute_result",
          "data": {
            "text/plain": [
              "tuple"
            ]
          },
          "metadata": {},
          "execution_count": 4
        }
      ]
    },
    {
      "cell_type": "code",
      "source": [
        "# Obteção das variáveis de entrada (features)\n",
        "X=pd.DataFrame(data[0])"
      ],
      "metadata": {
        "id": "Mifwcn8lprRI"
      },
      "execution_count": 5,
      "outputs": []
    },
    {
      "cell_type": "code",
      "source": [
        "X.info()"
      ],
      "metadata": {
        "colab": {
          "base_uri": "https://localhost:8080/"
        },
        "id": "akSA8tZUS3fh",
        "outputId": "ff946052-2fbe-45a6-db5a-ba31ea31c816"
      },
      "execution_count": 6,
      "outputs": [
        {
          "output_type": "stream",
          "name": "stdout",
          "text": [
            "<class 'pandas.core.frame.DataFrame'>\n",
            "RangeIndex: 45312 entries, 0 to 45311\n",
            "Data columns (total 8 columns):\n",
            " #   Column     Non-Null Count  Dtype   \n",
            "---  ------     --------------  -----   \n",
            " 0   date       45312 non-null  float64 \n",
            " 1   day        45312 non-null  category\n",
            " 2   period     45312 non-null  float64 \n",
            " 3   nswprice   45312 non-null  float64 \n",
            " 4   nswdemand  45312 non-null  float64 \n",
            " 5   vicprice   45312 non-null  float64 \n",
            " 6   vicdemand  45312 non-null  float64 \n",
            " 7   transfer   45312 non-null  float64 \n",
            "dtypes: category(1), float64(7)\n",
            "memory usage: 2.5 MB\n"
          ]
        }
      ]
    },
    {
      "cell_type": "code",
      "source": [
        "# Os dados da coluna \" day\" estão salvos como texto. Vamos transformá-los em inteiros\n",
        "X['day'] = X['day'].astype(int)"
      ],
      "metadata": {
        "id": "hxr5Ox_oTcxb"
      },
      "execution_count": 7,
      "outputs": []
    },
    {
      "cell_type": "code",
      "source": [
        "# Obtenção das saídas (targets)\n",
        "target = pd.DataFrame(data[1])\n",
        "\n",
        "# Transformar dados categóricos em 0 e 1\n",
        "y = pd.DataFrame(data[1]) # apenas para manter o target de\n",
        "y['class'].replace(['UP', 'DOWN'],[1,0], inplace=True) \n",
        "y.head()"
      ],
      "metadata": {
        "colab": {
          "base_uri": "https://localhost:8080/",
          "height": 206
        },
        "id": "PwZuMNktrjB7",
        "outputId": "1f2f3611-b4f9-4a8a-81f9-e6593f4c0af7"
      },
      "execution_count": 8,
      "outputs": [
        {
          "output_type": "execute_result",
          "data": {
            "text/plain": [
              "   class\n",
              "0      1\n",
              "1      1\n",
              "2      1\n",
              "3      1\n",
              "4      0"
            ],
            "text/html": [
              "\n",
              "  <div id=\"df-a4c72b2d-a108-4ee9-a936-1c2c9500b54d\">\n",
              "    <div class=\"colab-df-container\">\n",
              "      <div>\n",
              "<style scoped>\n",
              "    .dataframe tbody tr th:only-of-type {\n",
              "        vertical-align: middle;\n",
              "    }\n",
              "\n",
              "    .dataframe tbody tr th {\n",
              "        vertical-align: top;\n",
              "    }\n",
              "\n",
              "    .dataframe thead th {\n",
              "        text-align: right;\n",
              "    }\n",
              "</style>\n",
              "<table border=\"1\" class=\"dataframe\">\n",
              "  <thead>\n",
              "    <tr style=\"text-align: right;\">\n",
              "      <th></th>\n",
              "      <th>class</th>\n",
              "    </tr>\n",
              "  </thead>\n",
              "  <tbody>\n",
              "    <tr>\n",
              "      <th>0</th>\n",
              "      <td>1</td>\n",
              "    </tr>\n",
              "    <tr>\n",
              "      <th>1</th>\n",
              "      <td>1</td>\n",
              "    </tr>\n",
              "    <tr>\n",
              "      <th>2</th>\n",
              "      <td>1</td>\n",
              "    </tr>\n",
              "    <tr>\n",
              "      <th>3</th>\n",
              "      <td>1</td>\n",
              "    </tr>\n",
              "    <tr>\n",
              "      <th>4</th>\n",
              "      <td>0</td>\n",
              "    </tr>\n",
              "  </tbody>\n",
              "</table>\n",
              "</div>\n",
              "      <button class=\"colab-df-convert\" onclick=\"convertToInteractive('df-a4c72b2d-a108-4ee9-a936-1c2c9500b54d')\"\n",
              "              title=\"Convert this dataframe to an interactive table.\"\n",
              "              style=\"display:none;\">\n",
              "        \n",
              "  <svg xmlns=\"http://www.w3.org/2000/svg\" height=\"24px\"viewBox=\"0 0 24 24\"\n",
              "       width=\"24px\">\n",
              "    <path d=\"M0 0h24v24H0V0z\" fill=\"none\"/>\n",
              "    <path d=\"M18.56 5.44l.94 2.06.94-2.06 2.06-.94-2.06-.94-.94-2.06-.94 2.06-2.06.94zm-11 1L8.5 8.5l.94-2.06 2.06-.94-2.06-.94L8.5 2.5l-.94 2.06-2.06.94zm10 10l.94 2.06.94-2.06 2.06-.94-2.06-.94-.94-2.06-.94 2.06-2.06.94z\"/><path d=\"M17.41 7.96l-1.37-1.37c-.4-.4-.92-.59-1.43-.59-.52 0-1.04.2-1.43.59L10.3 9.45l-7.72 7.72c-.78.78-.78 2.05 0 2.83L4 21.41c.39.39.9.59 1.41.59.51 0 1.02-.2 1.41-.59l7.78-7.78 2.81-2.81c.8-.78.8-2.07 0-2.86zM5.41 20L4 18.59l7.72-7.72 1.47 1.35L5.41 20z\"/>\n",
              "  </svg>\n",
              "      </button>\n",
              "      \n",
              "  <style>\n",
              "    .colab-df-container {\n",
              "      display:flex;\n",
              "      flex-wrap:wrap;\n",
              "      gap: 12px;\n",
              "    }\n",
              "\n",
              "    .colab-df-convert {\n",
              "      background-color: #E8F0FE;\n",
              "      border: none;\n",
              "      border-radius: 50%;\n",
              "      cursor: pointer;\n",
              "      display: none;\n",
              "      fill: #1967D2;\n",
              "      height: 32px;\n",
              "      padding: 0 0 0 0;\n",
              "      width: 32px;\n",
              "    }\n",
              "\n",
              "    .colab-df-convert:hover {\n",
              "      background-color: #E2EBFA;\n",
              "      box-shadow: 0px 1px 2px rgba(60, 64, 67, 0.3), 0px 1px 3px 1px rgba(60, 64, 67, 0.15);\n",
              "      fill: #174EA6;\n",
              "    }\n",
              "\n",
              "    [theme=dark] .colab-df-convert {\n",
              "      background-color: #3B4455;\n",
              "      fill: #D2E3FC;\n",
              "    }\n",
              "\n",
              "    [theme=dark] .colab-df-convert:hover {\n",
              "      background-color: #434B5C;\n",
              "      box-shadow: 0px 1px 3px 1px rgba(0, 0, 0, 0.15);\n",
              "      filter: drop-shadow(0px 1px 2px rgba(0, 0, 0, 0.3));\n",
              "      fill: #FFFFFF;\n",
              "    }\n",
              "  </style>\n",
              "\n",
              "      <script>\n",
              "        const buttonEl =\n",
              "          document.querySelector('#df-a4c72b2d-a108-4ee9-a936-1c2c9500b54d button.colab-df-convert');\n",
              "        buttonEl.style.display =\n",
              "          google.colab.kernel.accessAllowed ? 'block' : 'none';\n",
              "\n",
              "        async function convertToInteractive(key) {\n",
              "          const element = document.querySelector('#df-a4c72b2d-a108-4ee9-a936-1c2c9500b54d');\n",
              "          const dataTable =\n",
              "            await google.colab.kernel.invokeFunction('convertToInteractive',\n",
              "                                                     [key], {});\n",
              "          if (!dataTable) return;\n",
              "\n",
              "          const docLinkHtml = 'Like what you see? Visit the ' +\n",
              "            '<a target=\"_blank\" href=https://colab.research.google.com/notebooks/data_table.ipynb>data table notebook</a>'\n",
              "            + ' to learn more about interactive tables.';\n",
              "          element.innerHTML = '';\n",
              "          dataTable['output_type'] = 'display_data';\n",
              "          await google.colab.output.renderOutput(dataTable, element);\n",
              "          const docLink = document.createElement('div');\n",
              "          docLink.innerHTML = docLinkHtml;\n",
              "          element.appendChild(docLink);\n",
              "        }\n",
              "      </script>\n",
              "    </div>\n",
              "  </div>\n",
              "  "
            ]
          },
          "metadata": {},
          "execution_count": 8
        }
      ]
    },
    {
      "cell_type": "code",
      "source": [
        "# Obteção de um dataframe com entratas e saídas (para EDA)\n",
        "total_data=pd.concat([X, y], axis=1)\n",
        "total_data.head()"
      ],
      "metadata": {
        "colab": {
          "base_uri": "https://localhost:8080/",
          "height": 206
        },
        "id": "Y--Xo8Dku3LM",
        "outputId": "130fb90c-acc7-4621-bae1-e4b199bb0853"
      },
      "execution_count": 9,
      "outputs": [
        {
          "output_type": "execute_result",
          "data": {
            "text/plain": [
              "   date  day    period  nswprice  nswdemand  vicprice  vicdemand  transfer  \\\n",
              "0   0.0    2  0.000000  0.056443   0.439155  0.003467   0.422915  0.414912   \n",
              "1   0.0    2  0.021277  0.051699   0.415055  0.003467   0.422915  0.414912   \n",
              "2   0.0    2  0.042553  0.051489   0.385004  0.003467   0.422915  0.414912   \n",
              "3   0.0    2  0.063830  0.045485   0.314639  0.003467   0.422915  0.414912   \n",
              "4   0.0    2  0.085106  0.042482   0.251116  0.003467   0.422915  0.414912   \n",
              "\n",
              "   class  \n",
              "0      1  \n",
              "1      1  \n",
              "2      1  \n",
              "3      1  \n",
              "4      0  "
            ],
            "text/html": [
              "\n",
              "  <div id=\"df-c3fa19bd-7156-404a-8cd2-4e5c0b966c6c\">\n",
              "    <div class=\"colab-df-container\">\n",
              "      <div>\n",
              "<style scoped>\n",
              "    .dataframe tbody tr th:only-of-type {\n",
              "        vertical-align: middle;\n",
              "    }\n",
              "\n",
              "    .dataframe tbody tr th {\n",
              "        vertical-align: top;\n",
              "    }\n",
              "\n",
              "    .dataframe thead th {\n",
              "        text-align: right;\n",
              "    }\n",
              "</style>\n",
              "<table border=\"1\" class=\"dataframe\">\n",
              "  <thead>\n",
              "    <tr style=\"text-align: right;\">\n",
              "      <th></th>\n",
              "      <th>date</th>\n",
              "      <th>day</th>\n",
              "      <th>period</th>\n",
              "      <th>nswprice</th>\n",
              "      <th>nswdemand</th>\n",
              "      <th>vicprice</th>\n",
              "      <th>vicdemand</th>\n",
              "      <th>transfer</th>\n",
              "      <th>class</th>\n",
              "    </tr>\n",
              "  </thead>\n",
              "  <tbody>\n",
              "    <tr>\n",
              "      <th>0</th>\n",
              "      <td>0.0</td>\n",
              "      <td>2</td>\n",
              "      <td>0.000000</td>\n",
              "      <td>0.056443</td>\n",
              "      <td>0.439155</td>\n",
              "      <td>0.003467</td>\n",
              "      <td>0.422915</td>\n",
              "      <td>0.414912</td>\n",
              "      <td>1</td>\n",
              "    </tr>\n",
              "    <tr>\n",
              "      <th>1</th>\n",
              "      <td>0.0</td>\n",
              "      <td>2</td>\n",
              "      <td>0.021277</td>\n",
              "      <td>0.051699</td>\n",
              "      <td>0.415055</td>\n",
              "      <td>0.003467</td>\n",
              "      <td>0.422915</td>\n",
              "      <td>0.414912</td>\n",
              "      <td>1</td>\n",
              "    </tr>\n",
              "    <tr>\n",
              "      <th>2</th>\n",
              "      <td>0.0</td>\n",
              "      <td>2</td>\n",
              "      <td>0.042553</td>\n",
              "      <td>0.051489</td>\n",
              "      <td>0.385004</td>\n",
              "      <td>0.003467</td>\n",
              "      <td>0.422915</td>\n",
              "      <td>0.414912</td>\n",
              "      <td>1</td>\n",
              "    </tr>\n",
              "    <tr>\n",
              "      <th>3</th>\n",
              "      <td>0.0</td>\n",
              "      <td>2</td>\n",
              "      <td>0.063830</td>\n",
              "      <td>0.045485</td>\n",
              "      <td>0.314639</td>\n",
              "      <td>0.003467</td>\n",
              "      <td>0.422915</td>\n",
              "      <td>0.414912</td>\n",
              "      <td>1</td>\n",
              "    </tr>\n",
              "    <tr>\n",
              "      <th>4</th>\n",
              "      <td>0.0</td>\n",
              "      <td>2</td>\n",
              "      <td>0.085106</td>\n",
              "      <td>0.042482</td>\n",
              "      <td>0.251116</td>\n",
              "      <td>0.003467</td>\n",
              "      <td>0.422915</td>\n",
              "      <td>0.414912</td>\n",
              "      <td>0</td>\n",
              "    </tr>\n",
              "  </tbody>\n",
              "</table>\n",
              "</div>\n",
              "      <button class=\"colab-df-convert\" onclick=\"convertToInteractive('df-c3fa19bd-7156-404a-8cd2-4e5c0b966c6c')\"\n",
              "              title=\"Convert this dataframe to an interactive table.\"\n",
              "              style=\"display:none;\">\n",
              "        \n",
              "  <svg xmlns=\"http://www.w3.org/2000/svg\" height=\"24px\"viewBox=\"0 0 24 24\"\n",
              "       width=\"24px\">\n",
              "    <path d=\"M0 0h24v24H0V0z\" fill=\"none\"/>\n",
              "    <path d=\"M18.56 5.44l.94 2.06.94-2.06 2.06-.94-2.06-.94-.94-2.06-.94 2.06-2.06.94zm-11 1L8.5 8.5l.94-2.06 2.06-.94-2.06-.94L8.5 2.5l-.94 2.06-2.06.94zm10 10l.94 2.06.94-2.06 2.06-.94-2.06-.94-.94-2.06-.94 2.06-2.06.94z\"/><path d=\"M17.41 7.96l-1.37-1.37c-.4-.4-.92-.59-1.43-.59-.52 0-1.04.2-1.43.59L10.3 9.45l-7.72 7.72c-.78.78-.78 2.05 0 2.83L4 21.41c.39.39.9.59 1.41.59.51 0 1.02-.2 1.41-.59l7.78-7.78 2.81-2.81c.8-.78.8-2.07 0-2.86zM5.41 20L4 18.59l7.72-7.72 1.47 1.35L5.41 20z\"/>\n",
              "  </svg>\n",
              "      </button>\n",
              "      \n",
              "  <style>\n",
              "    .colab-df-container {\n",
              "      display:flex;\n",
              "      flex-wrap:wrap;\n",
              "      gap: 12px;\n",
              "    }\n",
              "\n",
              "    .colab-df-convert {\n",
              "      background-color: #E8F0FE;\n",
              "      border: none;\n",
              "      border-radius: 50%;\n",
              "      cursor: pointer;\n",
              "      display: none;\n",
              "      fill: #1967D2;\n",
              "      height: 32px;\n",
              "      padding: 0 0 0 0;\n",
              "      width: 32px;\n",
              "    }\n",
              "\n",
              "    .colab-df-convert:hover {\n",
              "      background-color: #E2EBFA;\n",
              "      box-shadow: 0px 1px 2px rgba(60, 64, 67, 0.3), 0px 1px 3px 1px rgba(60, 64, 67, 0.15);\n",
              "      fill: #174EA6;\n",
              "    }\n",
              "\n",
              "    [theme=dark] .colab-df-convert {\n",
              "      background-color: #3B4455;\n",
              "      fill: #D2E3FC;\n",
              "    }\n",
              "\n",
              "    [theme=dark] .colab-df-convert:hover {\n",
              "      background-color: #434B5C;\n",
              "      box-shadow: 0px 1px 3px 1px rgba(0, 0, 0, 0.15);\n",
              "      filter: drop-shadow(0px 1px 2px rgba(0, 0, 0, 0.3));\n",
              "      fill: #FFFFFF;\n",
              "    }\n",
              "  </style>\n",
              "\n",
              "      <script>\n",
              "        const buttonEl =\n",
              "          document.querySelector('#df-c3fa19bd-7156-404a-8cd2-4e5c0b966c6c button.colab-df-convert');\n",
              "        buttonEl.style.display =\n",
              "          google.colab.kernel.accessAllowed ? 'block' : 'none';\n",
              "\n",
              "        async function convertToInteractive(key) {\n",
              "          const element = document.querySelector('#df-c3fa19bd-7156-404a-8cd2-4e5c0b966c6c');\n",
              "          const dataTable =\n",
              "            await google.colab.kernel.invokeFunction('convertToInteractive',\n",
              "                                                     [key], {});\n",
              "          if (!dataTable) return;\n",
              "\n",
              "          const docLinkHtml = 'Like what you see? Visit the ' +\n",
              "            '<a target=\"_blank\" href=https://colab.research.google.com/notebooks/data_table.ipynb>data table notebook</a>'\n",
              "            + ' to learn more about interactive tables.';\n",
              "          element.innerHTML = '';\n",
              "          dataTable['output_type'] = 'display_data';\n",
              "          await google.colab.output.renderOutput(dataTable, element);\n",
              "          const docLink = document.createElement('div');\n",
              "          docLink.innerHTML = docLinkHtml;\n",
              "          element.appendChild(docLink);\n",
              "        }\n",
              "      </script>\n",
              "    </div>\n",
              "  </div>\n",
              "  "
            ]
          },
          "metadata": {},
          "execution_count": 9
        }
      ]
    },
    {
      "cell_type": "markdown",
      "source": [
        "\n",
        "\n",
        "# **Análise esploratória dos dados (EDA)**"
      ],
      "metadata": {
        "id": "cHzgQARRo2Zr"
      }
    },
    {
      "cell_type": "code",
      "source": [
        "total_data.describe()"
      ],
      "metadata": {
        "colab": {
          "base_uri": "https://localhost:8080/",
          "height": 300
        },
        "id": "wUL0Ogg8pA27",
        "outputId": "d5fd136a-bc94-45fb-b5b2-6e4be58af001"
      },
      "execution_count": 10,
      "outputs": [
        {
          "output_type": "execute_result",
          "data": {
            "text/plain": [
              "               date           day        period      nswprice     nswdemand  \\\n",
              "count  45312.000000  45312.000000  45312.000000  45312.000000  45312.000000   \n",
              "mean       0.499080      4.003178      0.500000      0.057868      0.425418   \n",
              "std        0.340308      1.998695      0.294756      0.039991      0.163323   \n",
              "min        0.000000      1.000000      0.000000      0.000000      0.000000   \n",
              "25%        0.031934      2.000000      0.250000      0.035127      0.309134   \n",
              "50%        0.456329      4.000000      0.500000      0.048652      0.443693   \n",
              "75%        0.880547      6.000000      0.750000      0.074336      0.536001   \n",
              "max        1.000000      7.000000      1.000000      1.000000      1.000000   \n",
              "\n",
              "           vicprice     vicdemand      transfer         class  \n",
              "count  45312.000000  45312.000000  45312.000000  45312.000000  \n",
              "mean       0.003467      0.422915      0.500526      0.424545  \n",
              "std        0.010213      0.120965      0.153373      0.494279  \n",
              "min        0.000000      0.000000      0.000000      0.000000  \n",
              "25%        0.002277      0.372346      0.414912      0.000000  \n",
              "50%        0.003467      0.422915      0.414912      0.000000  \n",
              "75%        0.003467      0.469252      0.605702      1.000000  \n",
              "max        1.000000      1.000000      1.000000      1.000000  "
            ],
            "text/html": [
              "\n",
              "  <div id=\"df-4feb49d8-d94d-4544-9f6b-f9ba51c6e20a\">\n",
              "    <div class=\"colab-df-container\">\n",
              "      <div>\n",
              "<style scoped>\n",
              "    .dataframe tbody tr th:only-of-type {\n",
              "        vertical-align: middle;\n",
              "    }\n",
              "\n",
              "    .dataframe tbody tr th {\n",
              "        vertical-align: top;\n",
              "    }\n",
              "\n",
              "    .dataframe thead th {\n",
              "        text-align: right;\n",
              "    }\n",
              "</style>\n",
              "<table border=\"1\" class=\"dataframe\">\n",
              "  <thead>\n",
              "    <tr style=\"text-align: right;\">\n",
              "      <th></th>\n",
              "      <th>date</th>\n",
              "      <th>day</th>\n",
              "      <th>period</th>\n",
              "      <th>nswprice</th>\n",
              "      <th>nswdemand</th>\n",
              "      <th>vicprice</th>\n",
              "      <th>vicdemand</th>\n",
              "      <th>transfer</th>\n",
              "      <th>class</th>\n",
              "    </tr>\n",
              "  </thead>\n",
              "  <tbody>\n",
              "    <tr>\n",
              "      <th>count</th>\n",
              "      <td>45312.000000</td>\n",
              "      <td>45312.000000</td>\n",
              "      <td>45312.000000</td>\n",
              "      <td>45312.000000</td>\n",
              "      <td>45312.000000</td>\n",
              "      <td>45312.000000</td>\n",
              "      <td>45312.000000</td>\n",
              "      <td>45312.000000</td>\n",
              "      <td>45312.000000</td>\n",
              "    </tr>\n",
              "    <tr>\n",
              "      <th>mean</th>\n",
              "      <td>0.499080</td>\n",
              "      <td>4.003178</td>\n",
              "      <td>0.500000</td>\n",
              "      <td>0.057868</td>\n",
              "      <td>0.425418</td>\n",
              "      <td>0.003467</td>\n",
              "      <td>0.422915</td>\n",
              "      <td>0.500526</td>\n",
              "      <td>0.424545</td>\n",
              "    </tr>\n",
              "    <tr>\n",
              "      <th>std</th>\n",
              "      <td>0.340308</td>\n",
              "      <td>1.998695</td>\n",
              "      <td>0.294756</td>\n",
              "      <td>0.039991</td>\n",
              "      <td>0.163323</td>\n",
              "      <td>0.010213</td>\n",
              "      <td>0.120965</td>\n",
              "      <td>0.153373</td>\n",
              "      <td>0.494279</td>\n",
              "    </tr>\n",
              "    <tr>\n",
              "      <th>min</th>\n",
              "      <td>0.000000</td>\n",
              "      <td>1.000000</td>\n",
              "      <td>0.000000</td>\n",
              "      <td>0.000000</td>\n",
              "      <td>0.000000</td>\n",
              "      <td>0.000000</td>\n",
              "      <td>0.000000</td>\n",
              "      <td>0.000000</td>\n",
              "      <td>0.000000</td>\n",
              "    </tr>\n",
              "    <tr>\n",
              "      <th>25%</th>\n",
              "      <td>0.031934</td>\n",
              "      <td>2.000000</td>\n",
              "      <td>0.250000</td>\n",
              "      <td>0.035127</td>\n",
              "      <td>0.309134</td>\n",
              "      <td>0.002277</td>\n",
              "      <td>0.372346</td>\n",
              "      <td>0.414912</td>\n",
              "      <td>0.000000</td>\n",
              "    </tr>\n",
              "    <tr>\n",
              "      <th>50%</th>\n",
              "      <td>0.456329</td>\n",
              "      <td>4.000000</td>\n",
              "      <td>0.500000</td>\n",
              "      <td>0.048652</td>\n",
              "      <td>0.443693</td>\n",
              "      <td>0.003467</td>\n",
              "      <td>0.422915</td>\n",
              "      <td>0.414912</td>\n",
              "      <td>0.000000</td>\n",
              "    </tr>\n",
              "    <tr>\n",
              "      <th>75%</th>\n",
              "      <td>0.880547</td>\n",
              "      <td>6.000000</td>\n",
              "      <td>0.750000</td>\n",
              "      <td>0.074336</td>\n",
              "      <td>0.536001</td>\n",
              "      <td>0.003467</td>\n",
              "      <td>0.469252</td>\n",
              "      <td>0.605702</td>\n",
              "      <td>1.000000</td>\n",
              "    </tr>\n",
              "    <tr>\n",
              "      <th>max</th>\n",
              "      <td>1.000000</td>\n",
              "      <td>7.000000</td>\n",
              "      <td>1.000000</td>\n",
              "      <td>1.000000</td>\n",
              "      <td>1.000000</td>\n",
              "      <td>1.000000</td>\n",
              "      <td>1.000000</td>\n",
              "      <td>1.000000</td>\n",
              "      <td>1.000000</td>\n",
              "    </tr>\n",
              "  </tbody>\n",
              "</table>\n",
              "</div>\n",
              "      <button class=\"colab-df-convert\" onclick=\"convertToInteractive('df-4feb49d8-d94d-4544-9f6b-f9ba51c6e20a')\"\n",
              "              title=\"Convert this dataframe to an interactive table.\"\n",
              "              style=\"display:none;\">\n",
              "        \n",
              "  <svg xmlns=\"http://www.w3.org/2000/svg\" height=\"24px\"viewBox=\"0 0 24 24\"\n",
              "       width=\"24px\">\n",
              "    <path d=\"M0 0h24v24H0V0z\" fill=\"none\"/>\n",
              "    <path d=\"M18.56 5.44l.94 2.06.94-2.06 2.06-.94-2.06-.94-.94-2.06-.94 2.06-2.06.94zm-11 1L8.5 8.5l.94-2.06 2.06-.94-2.06-.94L8.5 2.5l-.94 2.06-2.06.94zm10 10l.94 2.06.94-2.06 2.06-.94-2.06-.94-.94-2.06-.94 2.06-2.06.94z\"/><path d=\"M17.41 7.96l-1.37-1.37c-.4-.4-.92-.59-1.43-.59-.52 0-1.04.2-1.43.59L10.3 9.45l-7.72 7.72c-.78.78-.78 2.05 0 2.83L4 21.41c.39.39.9.59 1.41.59.51 0 1.02-.2 1.41-.59l7.78-7.78 2.81-2.81c.8-.78.8-2.07 0-2.86zM5.41 20L4 18.59l7.72-7.72 1.47 1.35L5.41 20z\"/>\n",
              "  </svg>\n",
              "      </button>\n",
              "      \n",
              "  <style>\n",
              "    .colab-df-container {\n",
              "      display:flex;\n",
              "      flex-wrap:wrap;\n",
              "      gap: 12px;\n",
              "    }\n",
              "\n",
              "    .colab-df-convert {\n",
              "      background-color: #E8F0FE;\n",
              "      border: none;\n",
              "      border-radius: 50%;\n",
              "      cursor: pointer;\n",
              "      display: none;\n",
              "      fill: #1967D2;\n",
              "      height: 32px;\n",
              "      padding: 0 0 0 0;\n",
              "      width: 32px;\n",
              "    }\n",
              "\n",
              "    .colab-df-convert:hover {\n",
              "      background-color: #E2EBFA;\n",
              "      box-shadow: 0px 1px 2px rgba(60, 64, 67, 0.3), 0px 1px 3px 1px rgba(60, 64, 67, 0.15);\n",
              "      fill: #174EA6;\n",
              "    }\n",
              "\n",
              "    [theme=dark] .colab-df-convert {\n",
              "      background-color: #3B4455;\n",
              "      fill: #D2E3FC;\n",
              "    }\n",
              "\n",
              "    [theme=dark] .colab-df-convert:hover {\n",
              "      background-color: #434B5C;\n",
              "      box-shadow: 0px 1px 3px 1px rgba(0, 0, 0, 0.15);\n",
              "      filter: drop-shadow(0px 1px 2px rgba(0, 0, 0, 0.3));\n",
              "      fill: #FFFFFF;\n",
              "    }\n",
              "  </style>\n",
              "\n",
              "      <script>\n",
              "        const buttonEl =\n",
              "          document.querySelector('#df-4feb49d8-d94d-4544-9f6b-f9ba51c6e20a button.colab-df-convert');\n",
              "        buttonEl.style.display =\n",
              "          google.colab.kernel.accessAllowed ? 'block' : 'none';\n",
              "\n",
              "        async function convertToInteractive(key) {\n",
              "          const element = document.querySelector('#df-4feb49d8-d94d-4544-9f6b-f9ba51c6e20a');\n",
              "          const dataTable =\n",
              "            await google.colab.kernel.invokeFunction('convertToInteractive',\n",
              "                                                     [key], {});\n",
              "          if (!dataTable) return;\n",
              "\n",
              "          const docLinkHtml = 'Like what you see? Visit the ' +\n",
              "            '<a target=\"_blank\" href=https://colab.research.google.com/notebooks/data_table.ipynb>data table notebook</a>'\n",
              "            + ' to learn more about interactive tables.';\n",
              "          element.innerHTML = '';\n",
              "          dataTable['output_type'] = 'display_data';\n",
              "          await google.colab.output.renderOutput(dataTable, element);\n",
              "          const docLink = document.createElement('div');\n",
              "          docLink.innerHTML = docLinkHtml;\n",
              "          element.appendChild(docLink);\n",
              "        }\n",
              "      </script>\n",
              "    </div>\n",
              "  </div>\n",
              "  "
            ]
          },
          "metadata": {},
          "execution_count": 10
        }
      ]
    },
    {
      "cell_type": "code",
      "source": [
        "# Distribuíção de frequências das variáveis\n",
        "\n",
        "total_data.hist(figsize=(12,10));"
      ],
      "metadata": {
        "colab": {
          "base_uri": "https://localhost:8080/",
          "height": 607
        },
        "id": "NUNxSuP0xFOw",
        "outputId": "2144712f-adb8-41d6-d5a9-2006a298e573"
      },
      "execution_count": 11,
      "outputs": [
        {
          "output_type": "display_data",
          "data": {
            "text/plain": [
              "<Figure size 864x720 with 9 Axes>"
            ],
            "image/png": "[encoded data removed]"
          },
          "metadata": {
            "needs_background": "light"
          }
        }
      ]
    },
    {
      "cell_type": "code",
      "source": [
        "# Porcentagem entre as classes \n",
        "# up=1 down =0\n",
        "up=total_data['class'].sum()/total_data['class'].count()\n",
        "print('% up=',up*100)\n",
        "print('% down=',(1-up)*100)"
      ],
      "metadata": {
        "colab": {
          "base_uri": "https://localhost:8080/"
        },
        "id": "fUJpA4JB21I5",
        "outputId": "1a711f76-503d-4eed-bc86-3dfd3276b581"
      },
      "execution_count": 12,
      "outputs": [
        {
          "output_type": "stream",
          "name": "stdout",
          "text": [
            "% up= 42.45453742937853\n",
            "% down= 57.545462570621474\n"
          ]
        }
      ]
    },
    {
      "cell_type": "markdown",
      "source": [
        "Classes estão relativamente balanceadas. Neste contexto, acurácia é um bom comparativo entre modelos"
      ],
      "metadata": {
        "id": "8mUnUT5c7p1V"
      }
    },
    {
      "cell_type": "markdown",
      "source": [
        "# **Escolha do Modelo**\n",
        "\n",
        "Vamos testar os dados com alguns algorítimos adequados para classificação binária usando os hyperparâmetros defaut do método, e o mesmo random_state para excluir o efeito aleatoredade na performance. Em seguida, vamos calcular as métricas de desempenho e selecionar o modelo com melhor acurácia para proceguir a análise."
      ],
      "metadata": {
        "id": "_TE2Vczp8bVa"
      }
    },
    {
      "cell_type": "code",
      "source": [
        "# Escalonando o modelo\n",
        "scaler_x = MinMaxScaler().fit(X)\n",
        "scaler_y = MinMaxScaler().fit(y)\n",
        "Xscale=scaler_x.transform(X)\n",
        "yscale=scaler_y.transform(y)"
      ],
      "metadata": {
        "id": "-6J1V6M3fotI"
      },
      "execution_count": 13,
      "outputs": []
    },
    {
      "cell_type": "code",
      "source": [
        "# Separação dos dados em treino e teste\n",
        "\n",
        "X_train, X_test, y_train, y_test = \\\n",
        "    train_test_split(Xscale, yscale, test_size=0.30,  random_state=111, shuffle=True) # ps: shuffle= True default"
      ],
      "metadata": {
        "id": "5ex9Bfth6pjX"
      },
      "execution_count": 14,
      "outputs": []
    },
    {
      "cell_type": "markdown",
      "source": [
        "### Randon Forest"
      ],
      "metadata": {
        "id": "D20HMULY9Rh2"
      }
    },
    {
      "cell_type": "code",
      "source": [
        "rf = RandomForestClassifier(random_state=111) # create model\n",
        "rf.fit(X_train, y_train) # training model\n",
        "y_pred = rf.predict(X_test) #prediction step\n",
        "y_pred_train = rf.predict(X_train) #prediction train step"
      ],
      "metadata": {
        "id": "ilceXuL9iwFV",
        "colab": {
          "base_uri": "https://localhost:8080/"
        },
        "outputId": "bd039a39-2313-4691-8af4-3016e1913f86"
      },
      "execution_count": 15,
      "outputs": [
        {
          "output_type": "stream",
          "name": "stderr",
          "text": [
            "/usr/local/lib/python3.7/dist-packages/ipykernel_launcher.py:2: DataConversionWarning: A column-vector y was passed when a 1d array was expected. Please change the shape of y to (n_samples,), for example using ravel().\n",
            "  \n"
          ]
        }
      ]
    },
    {
      "cell_type": "markdown",
      "source": [
        "### Árvore de decisão"
      ],
      "metadata": {
        "id": "0OonxMS--MoO"
      }
    },
    {
      "cell_type": "code",
      "source": [
        "'''dt = tree.DecisionTreeClassifier( random_state=111)\n",
        "dt.fit(X_train, y_train) # training model\n",
        "y_pred_dt = dt.predict(X_test) #prediction step\n",
        "y_pred_train_dt = dt.predict(X_train)  #prediction train step'''"
      ],
      "metadata": {
        "id": "1RSXZUAyA_zB",
        "colab": {
          "base_uri": "https://localhost:8080/",
          "height": 53
        },
        "outputId": "3ebdf40b-1194-47dd-d116-e216ec2a41a0"
      },
      "execution_count": 16,
      "outputs": [
        {
          "output_type": "execute_result",
          "data": {
            "text/plain": [
              "'dt = tree.DecisionTreeClassifier( random_state=111)\\ndt.fit(X_train, y_train) # training model\\ny_pred_dt = dt.predict(X_test) #prediction step\\ny_pred_train_dt = dt.predict(X_train)  #prediction train step'"
            ],
            "application/vnd.google.colaboratory.intrinsic+json": {
              "type": "string"
            }
          },
          "metadata": {},
          "execution_count": 16
        }
      ]
    },
    {
      "cell_type": "markdown",
      "source": [
        "### Regressão Logística"
      ],
      "metadata": {
        "id": "ixeWRZGU-t6Q"
      }
    },
    {
      "cell_type": "code",
      "source": [
        "'''lr= LogisticRegression( random_state=111)\n",
        "lr.fit(X_train, y_train)\n",
        "y_pred_lr = lr.predict(X_test) #prediction step\n",
        "y_pred_train_lr = lr.predict(X_train)  #prediction train step'''"
      ],
      "metadata": {
        "colab": {
          "base_uri": "https://localhost:8080/",
          "height": 36
        },
        "id": "o62dfzF2Gfh3",
        "outputId": "ab33e7a7-bf18-44c0-8558-ece233fc0f8a"
      },
      "execution_count": 17,
      "outputs": [
        {
          "output_type": "execute_result",
          "data": {
            "text/plain": [
              "'lr= LogisticRegression( random_state=111)\\nlr.fit(X_train, y_train)\\ny_pred_lr = lr.predict(X_test) #prediction step\\ny_pred_train_lr = lr.predict(X_train)  #prediction train step'"
            ],
            "application/vnd.google.colaboratory.intrinsic+json": {
              "type": "string"
            }
          },
          "metadata": {},
          "execution_count": 17
        }
      ]
    },
    {
      "cell_type": "markdown",
      "source": [
        "### Rede Neural Artificial - MLP"
      ],
      "metadata": {
        "id": "KYQRuIyzhEHS"
      }
    },
    {
      "cell_type": "code",
      "source": [
        "'''ann = MLPClassifier(solver='adam', alpha=1e-5,hidden_layer_sizes=(100, ), random_state=111)\n",
        "ann.fit(X_train, y_train)\n",
        "y_pred_ann=ann.predict(X_test)\n",
        "y_pred_train_ann = ann.predict(X_train)  #prediction train step'''"
      ],
      "metadata": {
        "colab": {
          "base_uri": "https://localhost:8080/",
          "height": 53
        },
        "id": "M9g10CL0hDoW",
        "outputId": "0254966d-5604-4ff1-87de-3041cb3d7e29"
      },
      "execution_count": 18,
      "outputs": [
        {
          "output_type": "execute_result",
          "data": {
            "text/plain": [
              "\"ann = MLPClassifier(solver='adam', alpha=1e-5,hidden_layer_sizes=(100, ), random_state=111)\\nann.fit(X_train, y_train)\\ny_pred_ann=ann.predict(X_test)\\ny_pred_train_ann = ann.predict(X_train)  #prediction train step\""
            ],
            "application/vnd.google.colaboratory.intrinsic+json": {
              "type": "string"
            }
          },
          "metadata": {},
          "execution_count": 18
        }
      ]
    },
    {
      "cell_type": "markdown",
      "source": [
        "### XGBoost"
      ],
      "metadata": {
        "id": "7X47ptd1FX-q"
      }
    },
    {
      "cell_type": "code",
      "source": [
        "'''xgb = XGBClassifier(random_state=111)\n",
        "xgb.fit(X_train, y_train)\n",
        "# make predictions for test data\n",
        "y_pred_xgb = xgb.predict(X_test)\n",
        "y_pred_train_xgb = xgb.predict(X_train)  #prediction train step\n",
        "predictions = [round(value) for value in y_pred_xgb]\n",
        "# evaluate predictions\n",
        "accuracy = accuracy_score(y_test, predictions)\n",
        "print(\"Accuracy: %.2f%%\" % (accuracy * 100.0))\n",
        "# plot feature importance\n",
        "plot_importance(xgb)\n",
        "plt.show()'''"
      ],
      "metadata": {
        "colab": {
          "base_uri": "https://localhost:8080/",
          "height": 70
        },
        "id": "fLexhAFTjNP4",
        "outputId": "879584a9-4312-4ae1-8f97-83ffd836a228"
      },
      "execution_count": 19,
      "outputs": [
        {
          "output_type": "execute_result",
          "data": {
            "text/plain": [
              "'xgb = XGBClassifier(random_state=111)\\nxgb.fit(X_train, y_train)\\n# make predictions for test data\\ny_pred_xgb = xgb.predict(X_test)\\ny_pred_train_xgb = xgb.predict(X_train)  #prediction train step\\npredictions = [round(value) for value in y_pred_xgb]\\n# evaluate predictions\\naccuracy = accuracy_score(y_test, predictions)\\nprint(\"Accuracy: %.2f%%\" % (accuracy * 100.0))\\n# plot feature importance\\nplot_importance(xgb)\\nplt.show()'"
            ],
            "application/vnd.google.colaboratory.intrinsic+json": {
              "type": "string"
            }
          },
          "metadata": {},
          "execution_count": 19
        }
      ]
    },
    {
      "cell_type": "markdown",
      "source": [
        "### LightGBM"
      ],
      "metadata": {
        "id": "bqzFtxBvoCD-"
      }
    },
    {
      "cell_type": "code",
      "source": [
        "'''LiGBM = LGBMClassifier(random_state=111)\n",
        "LiGBM.fit(X_train, y_train)\n",
        "y_pred_lgbm = LiGBM.predict(X_test) #prediction step\n",
        "y_pred_train_lgbm = LiGBM.predict(X_train)  #prediction train step\n",
        "'''"
      ],
      "metadata": {
        "colab": {
          "base_uri": "https://localhost:8080/",
          "height": 53
        },
        "id": "TcPd-SHgoQC2",
        "outputId": "281b20c0-f515-486a-9d3f-60048a4b389a"
      },
      "execution_count": 20,
      "outputs": [
        {
          "output_type": "execute_result",
          "data": {
            "text/plain": [
              "'LiGBM = LGBMClassifier(random_state=111)\\nLiGBM.fit(X_train, y_train)\\ny_pred_lgbm = LiGBM.predict(X_test) #prediction step\\ny_pred_train_lgbm = LiGBM.predict(X_train)  #prediction train step\\n'"
            ],
            "application/vnd.google.colaboratory.intrinsic+json": {
              "type": "string"
            }
          },
          "metadata": {},
          "execution_count": 20
        }
      ]
    },
    {
      "cell_type": "markdown",
      "source": [
        "### **Avaliação e comparação das métricas do modelo**"
      ],
      "metadata": {
        "id": "2kNUMt7ZFCrS"
      }
    },
    {
      "cell_type": "code",
      "source": [
        "##### Avaliação das métricas do modelo treino\n",
        "\n",
        "print('**********  Avaliação das métricas do modelo random forest ***********')\n",
        "print()\n",
        "print(\" Acurácia: {0:.5f}\".format(accuracy_score(y_train, y_pred_train)))\n",
        "print(\" Precisão: {0:.5f}\".format(precision_score(y_train, y_pred_train)))\n",
        "print(\"   Recall: {0:.5f}\".format(recall_score(y_train, y_pred_train)))\n",
        "print(\" f1 score: {0:.5f}\".format(f1_score(y_train, y_pred_train)))\n",
        "print()\n",
        "\n",
        "'''print('**********  Avaliação das métricas do modelo Decision Tree Classifier ***********')\n",
        "print()\n",
        "print(\" Acurácia: {0:.5f}\".format(accuracy_score(y_train, y_pred_train_dt)))\n",
        "print(\" Precisão: {0:.5f}\".format(precision_score(y_train, y_pred_train_dt)))\n",
        "print(\"   Recall: {0:.5f}\".format(recall_score(y_train, y_pred_train_dt)))\n",
        "print(\" f1 score: {0:.5f}\".format(f1_score(y_train, y_pred_train_dt)))\n",
        "print()\n",
        "\n",
        "print('**********  Avaliação das métricas do modelo Logistic Regression ***********')\n",
        "print()\n",
        "print(\" Acurácia: {0:.5f}\".format(accuracy_score(y_train, y_pred_train_lr)))\n",
        "print(\" Precisão: {0:.5f}\".format(precision_score(y_train, y_pred_train_lr)))\n",
        "print(\"   Recall: {0:.5f}\".format(recall_score(y_train, y_pred_train_lr)))\n",
        "print(\" f1 score: {0:.5f}\".format(f1_score(y_train, y_pred_train_lr)))\n",
        "print()\n",
        "\n",
        "print('**********  Avaliação das métricas do modelo rede neural ***********')\n",
        "print()\n",
        "print(\" Acurácia: {0:.5f}\".format(accuracy_score(y_train, y_pred_train_ann)))\n",
        "print(\" Precisão: {0:.5f}\".format(precision_score(y_train, y_pred_train_ann)))\n",
        "print(\"   Recall: {0:.5f}\".format(recall_score(y_train, y_pred_train_ann)))\n",
        "print(\" f1 score: {0:.5f}\".format(f1_score(y_train, y_pred_train_ann)))\n",
        "print()\n",
        "\n",
        "print('**********  Avaliação das métricas do modelo XGB ***********')\n",
        "print()\n",
        "print(\" Acurácia: {0:.5f}\".format(accuracy_score(y_train, y_pred_train_xgb)))\n",
        "print(\" Precisão: {0:.5f}\".format(precision_score(y_train, y_pred_train_xgb)))\n",
        "print(\"   Recall: {0:.5f}\".format(recall_score(y_train, y_pred_train_xgb)))\n",
        "print(\" f1 score: {0:.5f}\".format(f1_score(y_train, y_pred_train_xgb)))\n",
        "print()\n",
        "\n",
        "print('**********  Avaliação das métricas do modelo light GBM ***********')\n",
        "print()\n",
        "print(\" Acurácia: {0:.5f}\".format(accuracy_score(y_train, y_pred_train_lgbm)))\n",
        "print(\" Precisão: {0:.5f}\".format(precision_score(y_train, y_pred_train_lgbm)))\n",
        "print(\"   Recall: {0:.5f}\".format(recall_score(y_train, y_pred_train_lgbm)))\n",
        "print(\" f1 score: {0:.5f}\".format(f1_score(y_train, y_pred_train_lgbm)))\n",
        "print()'''"
      ],
      "metadata": {
        "colab": {
          "base_uri": "https://localhost:8080/",
          "height": 244
        },
        "id": "-Xak5q-nvlgK",
        "outputId": "af9b8057-01ac-4cc4-e824-ddda4315d165"
      },
      "execution_count": 21,
      "outputs": [
        {
          "output_type": "stream",
          "name": "stdout",
          "text": [
            "**********  Avaliação das métricas do modelo random forest ***********\n",
            "\n",
            " Acurácia: 1.00000\n",
            " Precisão: 1.00000\n",
            "   Recall: 1.00000\n",
            " f1 score: 1.00000\n",
            "\n"
          ]
        },
        {
          "output_type": "execute_result",
          "data": {
            "text/plain": [
              "'print(\\'**********  Avaliação das métricas do modelo Decision Tree Classifier ***********\\')\\nprint()\\nprint(\" Acurácia: {0:.5f}\".format(accuracy_score(y_train, y_pred_train_dt)))\\nprint(\" Precisão: {0:.5f}\".format(precision_score(y_train, y_pred_train_dt)))\\nprint(\"   Recall: {0:.5f}\".format(recall_score(y_train, y_pred_train_dt)))\\nprint(\" f1 score: {0:.5f}\".format(f1_score(y_train, y_pred_train_dt)))\\nprint()\\n\\nprint(\\'**********  Avaliação das métricas do modelo Logistic Regression ***********\\')\\nprint()\\nprint(\" Acurácia: {0:.5f}\".format(accuracy_score(y_train, y_pred_train_lr)))\\nprint(\" Precisão: {0:.5f}\".format(precision_score(y_train, y_pred_train_lr)))\\nprint(\"   Recall: {0:.5f}\".format(recall_score(y_train, y_pred_train_lr)))\\nprint(\" f1 score: {0:.5f}\".format(f1_score(y_train, y_pred_train_lr)))\\nprint()\\n\\nprint(\\'**********  Avaliação das métricas do modelo rede neural ***********\\')\\nprint()\\nprint(\" Acurácia: {0:.5f}\".format(accuracy_score(y_train, y_pred_train_ann)))\\nprint(\" Precisão: {0:.5f}\".format(precision_score(y_train, y_pred_train_ann)))\\nprint(\"   Recall: {0:.5f}\".format(recall_score(y_train, y_pred_train_ann)))\\nprint(\" f1 score: {0:.5f}\".format(f1_score(y_train, y_pred_train_ann)))\\nprint()\\n\\nprint(\\'**********  Avaliação das métricas do modelo XGB ***********\\')\\nprint()\\nprint(\" Acurácia: {0:.5f}\".format(accuracy_score(y_train, y_pred_train_xgb)))\\nprint(\" Precisão: {0:.5f}\".format(precision_score(y_train, y_pred_train_xgb)))\\nprint(\"   Recall: {0:.5f}\".format(recall_score(y_train, y_pred_train_xgb)))\\nprint(\" f1 score: {0:.5f}\".format(f1_score(y_train, y_pred_train_xgb)))\\nprint()\\n\\nprint(\\'**********  Avaliação das métricas do modelo light GBM ***********\\')\\nprint()\\nprint(\" Acurácia: {0:.5f}\".format(accuracy_score(y_train, y_pred_train_lgbm)))\\nprint(\" Precisão: {0:.5f}\".format(precision_score(y_train, y_pred_train_lgbm)))\\nprint(\"   Recall: {0:.5f}\".format(recall_score(y_train, y_pred_train_lgbm)))\\nprint(\" f1 score: {0:.5f}\".format(f1_score(y_train, y_pred_train_lgbm)))\\nprint()'"
            ],
            "application/vnd.google.colaboratory.intrinsic+json": {
              "type": "string"
            }
          },
          "metadata": {},
          "execution_count": 21
        }
      ]
    },
    {
      "cell_type": "code",
      "source": [
        "##### Avaliação das métricas do modelo teste\n",
        "\n",
        "print('**********  Avaliação das métricas do modelo random forest ***********')\n",
        "print()\n",
        "print(\" Acurácia: {0:.5f}\".format(accuracy_score(y_test, y_pred)))\n",
        "print(\" Precisão: {0:.5f}\".format(precision_score(y_test, y_pred)))\n",
        "print(\"   Recall: {0:.5f}\".format(recall_score(y_test, y_pred)))\n",
        "print(\" f1 score: {0:.5f}\".format(f1_score(y_test, y_pred)))\n",
        "print()\n",
        "'''\n",
        "print('**********  Avaliação das métricas do modelo Decision Tree Classifier ***********')\n",
        "print()\n",
        "print(\" Acurácia: {0:.5f}\".format(accuracy_score(y_test, y_pred_dt)))\n",
        "print(\" Precisão: {0:.5f}\".format(precision_score(y_test, y_pred_dt)))\n",
        "print(\"   Recall: {0:.5f}\".format(recall_score(y_test, y_pred_dt)))\n",
        "print(\" f1 score: {0:.5f}\".format(f1_score(y_test, y_pred_dt)))\n",
        "print()\n",
        "\n",
        "print('**********  Avaliação das métricas do modelo Logistic Regression ***********')\n",
        "print()\n",
        "print(\" Acurácia: {0:.5f}\".format(accuracy_score(y_test, y_pred_lr)))\n",
        "print(\" Precisão: {0:.5f}\".format(precision_score(y_test, y_pred_lr)))\n",
        "print(\"   Recall: {0:.5f}\".format(recall_score(y_test, y_pred_lr)))\n",
        "print(\" f1 score: {0:.5f}\".format(f1_score(y_test, y_pred_lr)))\n",
        "print()\n",
        "\n",
        "print('**********  Avaliação das métricas do modelo rede neural ***********')\n",
        "print()\n",
        "print(\" Acurácia: {0:.5f}\".format(accuracy_score(y_test, y_pred_ann)))\n",
        "print(\" Precisão: {0:.5f}\".format(precision_score(y_test, y_pred_ann)))\n",
        "print(\"   Recall: {0:.5f}\".format(recall_score(y_test, y_pred_ann)))\n",
        "print(\" f1 score: {0:.5f}\".format(f1_score(y_test, y_pred_ann)))\n",
        "print()\n",
        "\n",
        "print('**********  Avaliação das métricas do modelo XGB ***********')\n",
        "print()\n",
        "print(\" Acurácia: {0:.5f}\".format(accuracy_score(y_test, y_pred_xgb)))\n",
        "print(\" Precisão: {0:.5f}\".format(precision_score(y_test, y_pred_xgb)))\n",
        "print(\"   Recall: {0:.5f}\".format(recall_score(y_test, y_pred_xgb)))\n",
        "print(\" f1 score: {0:.5f}\".format(f1_score(y_test, y_pred_xgb)))\n",
        "print()\n",
        "\n",
        "print('**********  Avaliação das métricas do modelo light GBM ***********')\n",
        "print()\n",
        "print(\" Acurácia: {0:.5f}\".format(accuracy_score(y_test, y_pred_lgbm)))\n",
        "print(\" Precisão: {0:.5f}\".format(precision_score(y_test, y_pred_lgbm)))\n",
        "print(\"   Recall: {0:.5f}\".format(recall_score(y_test, y_pred_lgbm)))\n",
        "print(\" f1 score: {0:.5f}\".format(f1_score(y_test, y_pred_lgbm)))\n",
        "print()'''"
      ],
      "metadata": {
        "id": "k6zUc8Gm7E_J",
        "colab": {
          "base_uri": "https://localhost:8080/",
          "height": 244
        },
        "outputId": "c3ec6082-cb87-41a8-ac65-52646aada1c5"
      },
      "execution_count": 22,
      "outputs": [
        {
          "output_type": "stream",
          "name": "stdout",
          "text": [
            "**********  Avaliação das métricas do modelo random forest ***********\n",
            "\n",
            " Acurácia: 0.90356\n",
            " Precisão: 0.90492\n",
            "   Recall: 0.86295\n",
            " f1 score: 0.88344\n",
            "\n"
          ]
        },
        {
          "output_type": "execute_result",
          "data": {
            "text/plain": [
              "'\\nprint(\\'**********  Avaliação das métricas do modelo Decision Tree Classifier ***********\\')\\nprint()\\nprint(\" Acurácia: {0:.5f}\".format(accuracy_score(y_test, y_pred_dt)))\\nprint(\" Precisão: {0:.5f}\".format(precision_score(y_test, y_pred_dt)))\\nprint(\"   Recall: {0:.5f}\".format(recall_score(y_test, y_pred_dt)))\\nprint(\" f1 score: {0:.5f}\".format(f1_score(y_test, y_pred_dt)))\\nprint()\\n\\nprint(\\'**********  Avaliação das métricas do modelo Logistic Regression ***********\\')\\nprint()\\nprint(\" Acurácia: {0:.5f}\".format(accuracy_score(y_test, y_pred_lr)))\\nprint(\" Precisão: {0:.5f}\".format(precision_score(y_test, y_pred_lr)))\\nprint(\"   Recall: {0:.5f}\".format(recall_score(y_test, y_pred_lr)))\\nprint(\" f1 score: {0:.5f}\".format(f1_score(y_test, y_pred_lr)))\\nprint()\\n\\nprint(\\'**********  Avaliação das métricas do modelo rede neural ***********\\')\\nprint()\\nprint(\" Acurácia: {0:.5f}\".format(accuracy_score(y_test, y_pred_ann)))\\nprint(\" Precisão: {0:.5f}\".format(precision_score(y_test, y_pred_ann)))\\nprint(\"   Recall: {0:.5f}\".format(recall_score(y_test, y_pred_ann)))\\nprint(\" f1 score: {0:.5f}\".format(f1_score(y_test, y_pred_ann)))\\nprint()\\n\\nprint(\\'**********  Avaliação das métricas do modelo XGB ***********\\')\\nprint()\\nprint(\" Acurácia: {0:.5f}\".format(accuracy_score(y_test, y_pred_xgb)))\\nprint(\" Precisão: {0:.5f}\".format(precision_score(y_test, y_pred_xgb)))\\nprint(\"   Recall: {0:.5f}\".format(recall_score(y_test, y_pred_xgb)))\\nprint(\" f1 score: {0:.5f}\".format(f1_score(y_test, y_pred_xgb)))\\nprint()\\n\\nprint(\\'**********  Avaliação das métricas do modelo light GBM ***********\\')\\nprint()\\nprint(\" Acurácia: {0:.5f}\".format(accuracy_score(y_test, y_pred_lgbm)))\\nprint(\" Precisão: {0:.5f}\".format(precision_score(y_test, y_pred_lgbm)))\\nprint(\"   Recall: {0:.5f}\".format(recall_score(y_test, y_pred_lgbm)))\\nprint(\" f1 score: {0:.5f}\".format(f1_score(y_test, y_pred_lgbm)))\\nprint()'"
            ],
            "application/vnd.google.colaboratory.intrinsic+json": {
              "type": "string"
            }
          },
          "metadata": {},
          "execution_count": 22
        }
      ]
    },
    {
      "cell_type": "markdown",
      "source": [
        "# **...**\n"
      ],
      "metadata": {
        "id": "K84uPe_YD9aC"
      }
    },
    {
      "cell_type": "code",
      "source": [
        "###### Entendimento do efeito das variáveis de entrada\n",
        "\n",
        "print('*********** Efeito das variáveis de entrada (features)  ***********')\n",
        "print()\n",
        "ft_imp = pd.Series(rf.feature_importances_).sort_values(ascending=False) #obtenção dos efeitos\n",
        "#Renomenando os índices:\n",
        "df=pd.DataFrame(ft_imp)\n",
        "df.index = X.columns[ft_imp.index]\n",
        "#Renomeando a coluna:\n",
        "df.columns=['Effect'] \n",
        "df"
      ],
      "metadata": {
        "id": "p0hQWpY39dRW",
        "colab": {
          "base_uri": "https://localhost:8080/",
          "height": 335
        },
        "outputId": "7316d9d6-1238-4b11-cdea-ce4e080705d3"
      },
      "execution_count": 23,
      "outputs": [
        {
          "output_type": "stream",
          "name": "stdout",
          "text": [
            "*********** Efeito das variáveis de entrada (features)  ***********\n",
            "\n"
          ]
        },
        {
          "output_type": "execute_result",
          "data": {
            "text/plain": [
              "             Effect\n",
              "nswprice   0.308497\n",
              "date       0.173794\n",
              "nswdemand  0.128352\n",
              "vicprice   0.106449\n",
              "period     0.105346\n",
              "vicdemand  0.064744\n",
              "transfer   0.056938\n",
              "day        0.055880"
            ],
            "text/html": [
              "\n",
              "  <div id=\"df-b973d062-038b-4ab2-8481-23cf7d1d7908\">\n",
              "    <div class=\"colab-df-container\">\n",
              "      <div>\n",
              "<style scoped>\n",
              "    .dataframe tbody tr th:only-of-type {\n",
              "        vertical-align: middle;\n",
              "    }\n",
              "\n",
              "    .dataframe tbody tr th {\n",
              "        vertical-align: top;\n",
              "    }\n",
              "\n",
              "    .dataframe thead th {\n",
              "        text-align: right;\n",
              "    }\n",
              "</style>\n",
              "<table border=\"1\" class=\"dataframe\">\n",
              "  <thead>\n",
              "    <tr style=\"text-align: right;\">\n",
              "      <th></th>\n",
              "      <th>Effect</th>\n",
              "    </tr>\n",
              "  </thead>\n",
              "  <tbody>\n",
              "    <tr>\n",
              "      <th>nswprice</th>\n",
              "      <td>0.308497</td>\n",
              "    </tr>\n",
              "    <tr>\n",
              "      <th>date</th>\n",
              "      <td>0.173794</td>\n",
              "    </tr>\n",
              "    <tr>\n",
              "      <th>nswdemand</th>\n",
              "      <td>0.128352</td>\n",
              "    </tr>\n",
              "    <tr>\n",
              "      <th>vicprice</th>\n",
              "      <td>0.106449</td>\n",
              "    </tr>\n",
              "    <tr>\n",
              "      <th>period</th>\n",
              "      <td>0.105346</td>\n",
              "    </tr>\n",
              "    <tr>\n",
              "      <th>vicdemand</th>\n",
              "      <td>0.064744</td>\n",
              "    </tr>\n",
              "    <tr>\n",
              "      <th>transfer</th>\n",
              "      <td>0.056938</td>\n",
              "    </tr>\n",
              "    <tr>\n",
              "      <th>day</th>\n",
              "      <td>0.055880</td>\n",
              "    </tr>\n",
              "  </tbody>\n",
              "</table>\n",
              "</div>\n",
              "      <button class=\"colab-df-convert\" onclick=\"convertToInteractive('df-b973d062-038b-4ab2-8481-23cf7d1d7908')\"\n",
              "              title=\"Convert this dataframe to an interactive table.\"\n",
              "              style=\"display:none;\">\n",
              "        \n",
              "  <svg xmlns=\"http://www.w3.org/2000/svg\" height=\"24px\"viewBox=\"0 0 24 24\"\n",
              "       width=\"24px\">\n",
              "    <path d=\"M0 0h24v24H0V0z\" fill=\"none\"/>\n",
              "    <path d=\"M18.56 5.44l.94 2.06.94-2.06 2.06-.94-2.06-.94-.94-2.06-.94 2.06-2.06.94zm-11 1L8.5 8.5l.94-2.06 2.06-.94-2.06-.94L8.5 2.5l-.94 2.06-2.06.94zm10 10l.94 2.06.94-2.06 2.06-.94-2.06-.94-.94-2.06-.94 2.06-2.06.94z\"/><path d=\"M17.41 7.96l-1.37-1.37c-.4-.4-.92-.59-1.43-.59-.52 0-1.04.2-1.43.59L10.3 9.45l-7.72 7.72c-.78.78-.78 2.05 0 2.83L4 21.41c.39.39.9.59 1.41.59.51 0 1.02-.2 1.41-.59l7.78-7.78 2.81-2.81c.8-.78.8-2.07 0-2.86zM5.41 20L4 18.59l7.72-7.72 1.47 1.35L5.41 20z\"/>\n",
              "  </svg>\n",
              "      </button>\n",
              "      \n",
              "  <style>\n",
              "    .colab-df-container {\n",
              "      display:flex;\n",
              "      flex-wrap:wrap;\n",
              "      gap: 12px;\n",
              "    }\n",
              "\n",
              "    .colab-df-convert {\n",
              "      background-color: #E8F0FE;\n",
              "      border: none;\n",
              "      border-radius: 50%;\n",
              "      cursor: pointer;\n",
              "      display: none;\n",
              "      fill: #1967D2;\n",
              "      height: 32px;\n",
              "      padding: 0 0 0 0;\n",
              "      width: 32px;\n",
              "    }\n",
              "\n",
              "    .colab-df-convert:hover {\n",
              "      background-color: #E2EBFA;\n",
              "      box-shadow: 0px 1px 2px rgba(60, 64, 67, 0.3), 0px 1px 3px 1px rgba(60, 64, 67, 0.15);\n",
              "      fill: #174EA6;\n",
              "    }\n",
              "\n",
              "    [theme=dark] .colab-df-convert {\n",
              "      background-color: #3B4455;\n",
              "      fill: #D2E3FC;\n",
              "    }\n",
              "\n",
              "    [theme=dark] .colab-df-convert:hover {\n",
              "      background-color: #434B5C;\n",
              "      box-shadow: 0px 1px 3px 1px rgba(0, 0, 0, 0.15);\n",
              "      filter: drop-shadow(0px 1px 2px rgba(0, 0, 0, 0.3));\n",
              "      fill: #FFFFFF;\n",
              "    }\n",
              "  </style>\n",
              "\n",
              "      <script>\n",
              "        const buttonEl =\n",
              "          document.querySelector('#df-b973d062-038b-4ab2-8481-23cf7d1d7908 button.colab-df-convert');\n",
              "        buttonEl.style.display =\n",
              "          google.colab.kernel.accessAllowed ? 'block' : 'none';\n",
              "\n",
              "        async function convertToInteractive(key) {\n",
              "          const element = document.querySelector('#df-b973d062-038b-4ab2-8481-23cf7d1d7908');\n",
              "          const dataTable =\n",
              "            await google.colab.kernel.invokeFunction('convertToInteractive',\n",
              "                                                     [key], {});\n",
              "          if (!dataTable) return;\n",
              "\n",
              "          const docLinkHtml = 'Like what you see? Visit the ' +\n",
              "            '<a target=\"_blank\" href=https://colab.research.google.com/notebooks/data_table.ipynb>data table notebook</a>'\n",
              "            + ' to learn more about interactive tables.';\n",
              "          element.innerHTML = '';\n",
              "          dataTable['output_type'] = 'display_data';\n",
              "          await google.colab.output.renderOutput(dataTable, element);\n",
              "          const docLink = document.createElement('div');\n",
              "          docLink.innerHTML = docLinkHtml;\n",
              "          element.appendChild(docLink);\n",
              "        }\n",
              "      </script>\n",
              "    </div>\n",
              "  </div>\n",
              "  "
            ]
          },
          "metadata": {},
          "execution_count": 23
        }
      ]
    },
    {
      "cell_type": "code",
      "source": [
        "# #-------Vizualization-----------\n",
        "\n",
        "# Let's print a chart containing the features whose effect is at least around 5%\n",
        "\n",
        "df1=df.sort_values(by=['Effect'], ascending=True) # sort in ascending order for plot\n",
        "\n",
        "\n",
        "font = {'weight' : 'bold',\n",
        "        'size'   : 12}\n",
        "\n",
        "plt.rc('font', **font)\n",
        "plt.rcParams['figure.figsize'] = [15, 6] \n",
        "\n",
        "df1.plot(kind='barh', color='lightsteelblue')\n",
        "plt.title(' Most important features with their respective effect ')\n",
        "plt.ylabel('Feature')\n",
        "plt.xlabel('Efeito')"
      ],
      "metadata": {
        "id": "qAFhQ8trjvSA",
        "colab": {
          "base_uri": "https://localhost:8080/",
          "height": 428
        },
        "outputId": "53bc3f73-8ef0-4abe-fe74-f0b3a7420470"
      },
      "execution_count": 24,
      "outputs": [
        {
          "output_type": "execute_result",
          "data": {
            "text/plain": [
              "Text(0.5, 0, 'Efeito')"
            ]
          },
          "metadata": {},
          "execution_count": 24
        },
        {
          "output_type": "display_data",
          "data": {
            "text/plain": [
              "<Figure size 1080x432 with 1 Axes>"
            ],
            "image/png": "[encoded data removed]"
          },
          "metadata": {
            "needs_background": "light"
          }
        }
      ]
    },
    {
      "cell_type": "markdown",
      "source": [
        ""
      ],
      "metadata": {
        "id": "SF9l0d0Fozt9"
      }
    },
    {
      "cell_type": "markdown",
      "source": [
        "# **Ajuste dos hiperpararâmetros do modelo selecionado - Random Forest**"
      ],
      "metadata": {
        "id": "9qT3HzkEltU6"
      }
    },
    {
      "cell_type": "code",
      "source": [
        "param_grid = { \n",
        "    'n_estimators': [200, 500],\n",
        "    'max_features': ['sqrt'],\n",
        "    'max_depth' : [4,5,6,7,8],\n",
        "    'criterion' :['gini', 'entropy']\n",
        "}\n",
        "param_grid = { \n",
        "    'n_estimators': [50,100],\n",
        "    'max_features': [3,6,9],\n",
        "    'max_depth' : [None],\n",
        "    'criterion' :['gini', 'entropy']\n",
        "}\n",
        "rf = RandomForestClassifier(random_state=111) # create model\n",
        "CV_rf = GridSearchCV(estimator=rf, param_grid=param_grid, cv= 5)\n",
        "CV_rf.fit(X_train, y_train)"
      ],
      "metadata": {
        "id": "87XbrTF9l7cP",
        "colab": {
          "base_uri": "https://localhost:8080/"
        },
        "outputId": "43b3af62-4324-4a80-b267-74b800c9db65"
      },
      "execution_count": 25,
      "outputs": [
        {
          "output_type": "stream",
          "name": "stderr",
          "text": [
            "/usr/local/lib/python3.7/dist-packages/sklearn/model_selection/_validation.py:680: DataConversionWarning: A column-vector y was passed when a 1d array was expected. Please change the shape of y to (n_samples,), for example using ravel().\n",
            "  estimator.fit(X_train, y_train, **fit_params)\n",
            "/usr/local/lib/python3.7/dist-packages/sklearn/model_selection/_validation.py:680: DataConversionWarning: A column-vector y was passed when a 1d array was expected. Please change the shape of y to (n_samples,), for example using ravel().\n",
            "  estimator.fit(X_train, y_train, **fit_params)\n",
            "/usr/local/lib/python3.7/dist-packages/sklearn/model_selection/_validation.py:680: DataConversionWarning: A column-vector y was passed when a 1d array was expected. Please change the shape of y to (n_samples,), for example using ravel().\n",
            "  estimator.fit(X_train, y_train, **fit_params)\n",
            "/usr/local/lib/python3.7/dist-packages/sklearn/model_selection/_validation.py:680: DataConversionWarning: A column-vector y was passed when a 1d array was expected. Please change the shape of y to (n_samples,), for example using ravel().\n",
            "  estimator.fit(X_train, y_train, **fit_params)\n",
            "/usr/local/lib/python3.7/dist-packages/sklearn/model_selection/_validation.py:680: DataConversionWarning: A column-vector y was passed when a 1d array was expected. Please change the shape of y to (n_samples,), for example using ravel().\n",
            "  estimator.fit(X_train, y_train, **fit_params)\n",
            "/usr/local/lib/python3.7/dist-packages/sklearn/model_selection/_validation.py:680: DataConversionWarning: A column-vector y was passed when a 1d array was expected. Please change the shape of y to (n_samples,), for example using ravel().\n",
            "  estimator.fit(X_train, y_train, **fit_params)\n",
            "/usr/local/lib/python3.7/dist-packages/sklearn/model_selection/_validation.py:680: DataConversionWarning: A column-vector y was passed when a 1d array was expected. Please change the shape of y to (n_samples,), for example using ravel().\n",
            "  estimator.fit(X_train, y_train, **fit_params)\n",
            "/usr/local/lib/python3.7/dist-packages/sklearn/model_selection/_validation.py:680: DataConversionWarning: A column-vector y was passed when a 1d array was expected. Please change the shape of y to (n_samples,), for example using ravel().\n",
            "  estimator.fit(X_train, y_train, **fit_params)\n",
            "/usr/local/lib/python3.7/dist-packages/sklearn/model_selection/_validation.py:680: DataConversionWarning: A column-vector y was passed when a 1d array was expected. Please change the shape of y to (n_samples,), for example using ravel().\n",
            "  estimator.fit(X_train, y_train, **fit_params)\n",
            "/usr/local/lib/python3.7/dist-packages/sklearn/model_selection/_validation.py:680: DataConversionWarning: A column-vector y was passed when a 1d array was expected. Please change the shape of y to (n_samples,), for example using ravel().\n",
            "  estimator.fit(X_train, y_train, **fit_params)\n",
            "/usr/local/lib/python3.7/dist-packages/sklearn/model_selection/_validation.py:680: DataConversionWarning: A column-vector y was passed when a 1d array was expected. Please change the shape of y to (n_samples,), for example using ravel().\n",
            "  estimator.fit(X_train, y_train, **fit_params)\n",
            "/usr/local/lib/python3.7/dist-packages/sklearn/model_selection/_validation.py:680: DataConversionWarning: A column-vector y was passed when a 1d array was expected. Please change the shape of y to (n_samples,), for example using ravel().\n",
            "  estimator.fit(X_train, y_train, **fit_params)\n",
            "/usr/local/lib/python3.7/dist-packages/sklearn/model_selection/_validation.py:680: DataConversionWarning: A column-vector y was passed when a 1d array was expected. Please change the shape of y to (n_samples,), for example using ravel().\n",
            "  estimator.fit(X_train, y_train, **fit_params)\n",
            "/usr/local/lib/python3.7/dist-packages/sklearn/model_selection/_validation.py:680: DataConversionWarning: A column-vector y was passed when a 1d array was expected. Please change the shape of y to (n_samples,), for example using ravel().\n",
            "  estimator.fit(X_train, y_train, **fit_params)\n",
            "/usr/local/lib/python3.7/dist-packages/sklearn/model_selection/_validation.py:680: DataConversionWarning: A column-vector y was passed when a 1d array was expected. Please change the shape of y to (n_samples,), for example using ravel().\n",
            "  estimator.fit(X_train, y_train, **fit_params)\n",
            "/usr/local/lib/python3.7/dist-packages/sklearn/model_selection/_validation.py:680: DataConversionWarning: A column-vector y was passed when a 1d array was expected. Please change the shape of y to (n_samples,), for example using ravel().\n",
            "  estimator.fit(X_train, y_train, **fit_params)\n",
            "/usr/local/lib/python3.7/dist-packages/sklearn/model_selection/_validation.py:680: DataConversionWarning: A column-vector y was passed when a 1d array was expected. Please change the shape of y to (n_samples,), for example using ravel().\n",
            "  estimator.fit(X_train, y_train, **fit_params)\n",
            "/usr/local/lib/python3.7/dist-packages/sklearn/model_selection/_validation.py:680: DataConversionWarning: A column-vector y was passed when a 1d array was expected. Please change the shape of y to (n_samples,), for example using ravel().\n",
            "  estimator.fit(X_train, y_train, **fit_params)\n",
            "/usr/local/lib/python3.7/dist-packages/sklearn/model_selection/_validation.py:680: DataConversionWarning: A column-vector y was passed when a 1d array was expected. Please change the shape of y to (n_samples,), for example using ravel().\n",
            "  estimator.fit(X_train, y_train, **fit_params)\n",
            "/usr/local/lib/python3.7/dist-packages/sklearn/model_selection/_validation.py:680: DataConversionWarning: A column-vector y was passed when a 1d array was expected. Please change the shape of y to (n_samples,), for example using ravel().\n",
            "  estimator.fit(X_train, y_train, **fit_params)\n",
            "/usr/local/lib/python3.7/dist-packages/sklearn/model_selection/_validation.py:680: DataConversionWarning: A column-vector y was passed when a 1d array was expected. Please change the shape of y to (n_samples,), for example using ravel().\n",
            "  estimator.fit(X_train, y_train, **fit_params)\n",
            "/usr/local/lib/python3.7/dist-packages/sklearn/model_selection/_validation.py:680: DataConversionWarning: A column-vector y was passed when a 1d array was expected. Please change the shape of y to (n_samples,), for example using ravel().\n",
            "  estimator.fit(X_train, y_train, **fit_params)\n",
            "/usr/local/lib/python3.7/dist-packages/sklearn/model_selection/_validation.py:680: DataConversionWarning: A column-vector y was passed when a 1d array was expected. Please change the shape of y to (n_samples,), for example using ravel().\n",
            "  estimator.fit(X_train, y_train, **fit_params)\n",
            "/usr/local/lib/python3.7/dist-packages/sklearn/model_selection/_validation.py:680: DataConversionWarning: A column-vector y was passed when a 1d array was expected. Please change the shape of y to (n_samples,), for example using ravel().\n",
            "  estimator.fit(X_train, y_train, **fit_params)\n",
            "/usr/local/lib/python3.7/dist-packages/sklearn/model_selection/_validation.py:680: DataConversionWarning: A column-vector y was passed when a 1d array was expected. Please change the shape of y to (n_samples,), for example using ravel().\n",
            "  estimator.fit(X_train, y_train, **fit_params)\n",
            "/usr/local/lib/python3.7/dist-packages/sklearn/model_selection/_validation.py:680: DataConversionWarning: A column-vector y was passed when a 1d array was expected. Please change the shape of y to (n_samples,), for example using ravel().\n",
            "  estimator.fit(X_train, y_train, **fit_params)\n",
            "/usr/local/lib/python3.7/dist-packages/sklearn/model_selection/_validation.py:680: DataConversionWarning: A column-vector y was passed when a 1d array was expected. Please change the shape of y to (n_samples,), for example using ravel().\n",
            "  estimator.fit(X_train, y_train, **fit_params)\n",
            "/usr/local/lib/python3.7/dist-packages/sklearn/model_selection/_validation.py:680: DataConversionWarning: A column-vector y was passed when a 1d array was expected. Please change the shape of y to (n_samples,), for example using ravel().\n",
            "  estimator.fit(X_train, y_train, **fit_params)\n",
            "/usr/local/lib/python3.7/dist-packages/sklearn/model_selection/_validation.py:680: DataConversionWarning: A column-vector y was passed when a 1d array was expected. Please change the shape of y to (n_samples,), for example using ravel().\n",
            "  estimator.fit(X_train, y_train, **fit_params)\n",
            "/usr/local/lib/python3.7/dist-packages/sklearn/model_selection/_validation.py:680: DataConversionWarning: A column-vector y was passed when a 1d array was expected. Please change the shape of y to (n_samples,), for example using ravel().\n",
            "  estimator.fit(X_train, y_train, **fit_params)\n",
            "/usr/local/lib/python3.7/dist-packages/sklearn/model_selection/_validation.py:680: DataConversionWarning: A column-vector y was passed when a 1d array was expected. Please change the shape of y to (n_samples,), for example using ravel().\n",
            "  estimator.fit(X_train, y_train, **fit_params)\n",
            "/usr/local/lib/python3.7/dist-packages/sklearn/model_selection/_validation.py:680: DataConversionWarning: A column-vector y was passed when a 1d array was expected. Please change the shape of y to (n_samples,), for example using ravel().\n",
            "  estimator.fit(X_train, y_train, **fit_params)\n",
            "/usr/local/lib/python3.7/dist-packages/sklearn/model_selection/_validation.py:680: DataConversionWarning: A column-vector y was passed when a 1d array was expected. Please change the shape of y to (n_samples,), for example using ravel().\n",
            "  estimator.fit(X_train, y_train, **fit_params)\n",
            "/usr/local/lib/python3.7/dist-packages/sklearn/model_selection/_validation.py:680: DataConversionWarning: A column-vector y was passed when a 1d array was expected. Please change the shape of y to (n_samples,), for example using ravel().\n",
            "  estimator.fit(X_train, y_train, **fit_params)\n",
            "/usr/local/lib/python3.7/dist-packages/sklearn/model_selection/_validation.py:680: DataConversionWarning: A column-vector y was passed when a 1d array was expected. Please change the shape of y to (n_samples,), for example using ravel().\n",
            "  estimator.fit(X_train, y_train, **fit_params)\n",
            "/usr/local/lib/python3.7/dist-packages/sklearn/model_selection/_validation.py:680: DataConversionWarning: A column-vector y was passed when a 1d array was expected. Please change the shape of y to (n_samples,), for example using ravel().\n",
            "  estimator.fit(X_train, y_train, **fit_params)\n",
            "/usr/local/lib/python3.7/dist-packages/sklearn/model_selection/_validation.py:680: DataConversionWarning: A column-vector y was passed when a 1d array was expected. Please change the shape of y to (n_samples,), for example using ravel().\n",
            "  estimator.fit(X_train, y_train, **fit_params)\n",
            "/usr/local/lib/python3.7/dist-packages/sklearn/model_selection/_validation.py:680: DataConversionWarning: A column-vector y was passed when a 1d array was expected. Please change the shape of y to (n_samples,), for example using ravel().\n",
            "  estimator.fit(X_train, y_train, **fit_params)\n",
            "/usr/local/lib/python3.7/dist-packages/sklearn/model_selection/_validation.py:680: DataConversionWarning: A column-vector y was passed when a 1d array was expected. Please change the shape of y to (n_samples,), for example using ravel().\n",
            "  estimator.fit(X_train, y_train, **fit_params)\n",
            "/usr/local/lib/python3.7/dist-packages/sklearn/model_selection/_validation.py:680: DataConversionWarning: A column-vector y was passed when a 1d array was expected. Please change the shape of y to (n_samples,), for example using ravel().\n",
            "  estimator.fit(X_train, y_train, **fit_params)\n",
            "/usr/local/lib/python3.7/dist-packages/sklearn/model_selection/_validation.py:680: DataConversionWarning: A column-vector y was passed when a 1d array was expected. Please change the shape of y to (n_samples,), for example using ravel().\n",
            "  estimator.fit(X_train, y_train, **fit_params)\n",
            "/usr/local/lib/python3.7/dist-packages/sklearn/model_selection/_validation.py:680: DataConversionWarning: A column-vector y was passed when a 1d array was expected. Please change the shape of y to (n_samples,), for example using ravel().\n",
            "  estimator.fit(X_train, y_train, **fit_params)\n",
            "/usr/local/lib/python3.7/dist-packages/sklearn/model_selection/_validation.py:680: DataConversionWarning: A column-vector y was passed when a 1d array was expected. Please change the shape of y to (n_samples,), for example using ravel().\n",
            "  estimator.fit(X_train, y_train, **fit_params)\n",
            "/usr/local/lib/python3.7/dist-packages/sklearn/model_selection/_validation.py:680: DataConversionWarning: A column-vector y was passed when a 1d array was expected. Please change the shape of y to (n_samples,), for example using ravel().\n",
            "  estimator.fit(X_train, y_train, **fit_params)\n",
            "/usr/local/lib/python3.7/dist-packages/sklearn/model_selection/_validation.py:680: DataConversionWarning: A column-vector y was passed when a 1d array was expected. Please change the shape of y to (n_samples,), for example using ravel().\n",
            "  estimator.fit(X_train, y_train, **fit_params)\n",
            "/usr/local/lib/python3.7/dist-packages/sklearn/model_selection/_validation.py:680: DataConversionWarning: A column-vector y was passed when a 1d array was expected. Please change the shape of y to (n_samples,), for example using ravel().\n",
            "  estimator.fit(X_train, y_train, **fit_params)\n",
            "/usr/local/lib/python3.7/dist-packages/sklearn/model_selection/_validation.py:680: DataConversionWarning: A column-vector y was passed when a 1d array was expected. Please change the shape of y to (n_samples,), for example using ravel().\n",
            "  estimator.fit(X_train, y_train, **fit_params)\n",
            "/usr/local/lib/python3.7/dist-packages/sklearn/model_selection/_validation.py:680: DataConversionWarning: A column-vector y was passed when a 1d array was expected. Please change the shape of y to (n_samples,), for example using ravel().\n",
            "  estimator.fit(X_train, y_train, **fit_params)\n",
            "/usr/local/lib/python3.7/dist-packages/sklearn/model_selection/_validation.py:680: DataConversionWarning: A column-vector y was passed when a 1d array was expected. Please change the shape of y to (n_samples,), for example using ravel().\n",
            "  estimator.fit(X_train, y_train, **fit_params)\n",
            "/usr/local/lib/python3.7/dist-packages/sklearn/model_selection/_validation.py:680: DataConversionWarning: A column-vector y was passed when a 1d array was expected. Please change the shape of y to (n_samples,), for example using ravel().\n",
            "  estimator.fit(X_train, y_train, **fit_params)\n",
            "/usr/local/lib/python3.7/dist-packages/sklearn/model_selection/_validation.py:680: DataConversionWarning: A column-vector y was passed when a 1d array was expected. Please change the shape of y to (n_samples,), for example using ravel().\n",
            "  estimator.fit(X_train, y_train, **fit_params)\n",
            "/usr/local/lib/python3.7/dist-packages/sklearn/model_selection/_validation.py:680: DataConversionWarning: A column-vector y was passed when a 1d array was expected. Please change the shape of y to (n_samples,), for example using ravel().\n",
            "  estimator.fit(X_train, y_train, **fit_params)\n",
            "/usr/local/lib/python3.7/dist-packages/sklearn/model_selection/_validation.py:680: DataConversionWarning: A column-vector y was passed when a 1d array was expected. Please change the shape of y to (n_samples,), for example using ravel().\n",
            "  estimator.fit(X_train, y_train, **fit_params)\n",
            "/usr/local/lib/python3.7/dist-packages/sklearn/model_selection/_validation.py:680: DataConversionWarning: A column-vector y was passed when a 1d array was expected. Please change the shape of y to (n_samples,), for example using ravel().\n",
            "  estimator.fit(X_train, y_train, **fit_params)\n",
            "/usr/local/lib/python3.7/dist-packages/sklearn/model_selection/_validation.py:680: DataConversionWarning: A column-vector y was passed when a 1d array was expected. Please change the shape of y to (n_samples,), for example using ravel().\n",
            "  estimator.fit(X_train, y_train, **fit_params)\n",
            "/usr/local/lib/python3.7/dist-packages/sklearn/model_selection/_validation.py:680: DataConversionWarning: A column-vector y was passed when a 1d array was expected. Please change the shape of y to (n_samples,), for example using ravel().\n",
            "  estimator.fit(X_train, y_train, **fit_params)\n",
            "/usr/local/lib/python3.7/dist-packages/sklearn/model_selection/_validation.py:680: DataConversionWarning: A column-vector y was passed when a 1d array was expected. Please change the shape of y to (n_samples,), for example using ravel().\n",
            "  estimator.fit(X_train, y_train, **fit_params)\n",
            "/usr/local/lib/python3.7/dist-packages/sklearn/model_selection/_validation.py:680: DataConversionWarning: A column-vector y was passed when a 1d array was expected. Please change the shape of y to (n_samples,), for example using ravel().\n",
            "  estimator.fit(X_train, y_train, **fit_params)\n",
            "/usr/local/lib/python3.7/dist-packages/sklearn/model_selection/_validation.py:680: DataConversionWarning: A column-vector y was passed when a 1d array was expected. Please change the shape of y to (n_samples,), for example using ravel().\n",
            "  estimator.fit(X_train, y_train, **fit_params)\n",
            "/usr/local/lib/python3.7/dist-packages/sklearn/model_selection/_validation.py:680: DataConversionWarning: A column-vector y was passed when a 1d array was expected. Please change the shape of y to (n_samples,), for example using ravel().\n",
            "  estimator.fit(X_train, y_train, **fit_params)\n",
            "/usr/local/lib/python3.7/dist-packages/sklearn/model_selection/_validation.py:372: FitFailedWarning: \n",
            "20 fits failed out of a total of 60.\n",
            "The score on these train-test partitions for these parameters will be set to nan.\n",
            "If these failures are not expected, you can try to debug them by setting error_score='raise'.\n",
            "\n",
            "Below are more details about the failures:\n",
            "--------------------------------------------------------------------------------\n",
            "20 fits failed with the following error:\n",
            "Traceback (most recent call last):\n",
            "  File \"/usr/local/lib/python3.7/dist-packages/sklearn/model_selection/_validation.py\", line 680, in _fit_and_score\n",
            "    estimator.fit(X_train, y_train, **fit_params)\n",
            "  File \"/usr/local/lib/python3.7/dist-packages/sklearn/ensemble/_forest.py\", line 467, in fit\n",
            "    for i, t in enumerate(trees)\n",
            "  File \"/usr/local/lib/python3.7/dist-packages/joblib/parallel.py\", line 1043, in __call__\n",
            "    if self.dispatch_one_batch(iterator):\n",
            "  File \"/usr/local/lib/python3.7/dist-packages/joblib/parallel.py\", line 861, in dispatch_one_batch\n",
            "    self._dispatch(tasks)\n",
            "  File \"/usr/local/lib/python3.7/dist-packages/joblib/parallel.py\", line 779, in _dispatch\n",
            "    job = self._backend.apply_async(batch, callback=cb)\n",
            "  File \"/usr/local/lib/python3.7/dist-packages/joblib/_parallel_backends.py\", line 208, in apply_async\n",
            "    result = ImmediateResult(func)\n",
            "  File \"/usr/local/lib/python3.7/dist-packages/joblib/_parallel_backends.py\", line 572, in __init__\n",
            "    self.results = batch()\n",
            "  File \"/usr/local/lib/python3.7/dist-packages/joblib/parallel.py\", line 263, in __call__\n",
            "    for func, args, kwargs in self.items]\n",
            "  File \"/usr/local/lib/python3.7/dist-packages/joblib/parallel.py\", line 263, in <listcomp>\n",
            "    for func, args, kwargs in self.items]\n",
            "  File \"/usr/local/lib/python3.7/dist-packages/sklearn/utils/fixes.py\", line 216, in __call__\n",
            "    return self.function(*args, **kwargs)\n",
            "  File \"/usr/local/lib/python3.7/dist-packages/sklearn/ensemble/_forest.py\", line 185, in _parallel_build_trees\n",
            "    tree.fit(X, y, sample_weight=curr_sample_weight, check_input=False)\n",
            "  File \"/usr/local/lib/python3.7/dist-packages/sklearn/tree/_classes.py\", line 942, in fit\n",
            "    X_idx_sorted=X_idx_sorted,\n",
            "  File \"/usr/local/lib/python3.7/dist-packages/sklearn/tree/_classes.py\", line 308, in fit\n",
            "    raise ValueError(\"max_features must be in (0, n_features]\")\n",
            "ValueError: max_features must be in (0, n_features]\n",
            "\n",
            "  warnings.warn(some_fits_failed_message, FitFailedWarning)\n",
            "/usr/local/lib/python3.7/dist-packages/sklearn/model_selection/_search.py:972: UserWarning: One or more of the test scores are non-finite: [0.89810201 0.89911095 0.90661448 0.90774954        nan        nan\n",
            " 0.89892187 0.90147561 0.91083932 0.91172201        nan        nan]\n",
            "  category=UserWarning,\n",
            "/usr/local/lib/python3.7/dist-packages/sklearn/model_selection/_search.py:926: DataConversionWarning: A column-vector y was passed when a 1d array was expected. Please change the shape of y to (n_samples,), for example using ravel().\n",
            "  self.best_estimator_.fit(X, y, **fit_params)\n"
          ]
        },
        {
          "output_type": "execute_result",
          "data": {
            "text/plain": [
              "GridSearchCV(cv=5, estimator=RandomForestClassifier(random_state=111),\n",
              "             param_grid={'criterion': ['gini', 'entropy'], 'max_depth': [None],\n",
              "                         'max_features': [3, 6, 9], 'n_estimators': [50, 100]})"
            ]
          },
          "metadata": {},
          "execution_count": 25
        }
      ]
    },
    {
      "cell_type": "code",
      "source": [
        "CV_rf.best_params_"
      ],
      "metadata": {
        "id": "C6RjrbvhnbcB",
        "colab": {
          "base_uri": "https://localhost:8080/"
        },
        "outputId": "242b5e77-9516-4bf8-8691-ba1557e64e24"
      },
      "execution_count": 26,
      "outputs": [
        {
          "output_type": "execute_result",
          "data": {
            "text/plain": [
              "{'criterion': 'entropy',\n",
              " 'max_depth': None,\n",
              " 'max_features': 6,\n",
              " 'n_estimators': 100}"
            ]
          },
          "metadata": {},
          "execution_count": 26
        }
      ]
    },
    {
      "cell_type": "code",
      "source": [
        "y_pred = CV_rf.predict(X_test) #prediction step\n",
        "y_pred_train = CV_rf.predict(X_train) #prediction train step"
      ],
      "metadata": {
        "id": "Ugve-kbrnb8L"
      },
      "execution_count": 27,
      "outputs": []
    },
    {
      "cell_type": "code",
      "source": [
        "##### Avaliação das métricas do modelo treino após otimização\n",
        "\n",
        "print('**********  Avaliação das métricas do modelo random forest após otimização ***********')\n",
        "print('Conjunto Treino')\n",
        "print()\n",
        "print(\" Acurácia: {0:.5f}\".format(accuracy_score(y_train, y_pred_train)))\n",
        "print(\" Precisão: {0:.5f}\".format(precision_score(y_train, y_pred_train)))\n",
        "print(\"   Recall: {0:.5f}\".format(recall_score(y_train, y_pred_train)))\n",
        "print(\" f1 score: {0:.5f}\".format(f1_score(y_train, y_pred_train)))\n",
        "print()\n",
        "print('Conjunto Teste')\n",
        "print()\n",
        "print('**********  Avaliação das métricas do modelo random forest ***********')\n",
        "print()\n",
        "print(\" Acurácia: {0:.5f}\".format(accuracy_score(y_test, y_pred)))\n",
        "print(\" Precisão: {0:.5f}\".format(precision_score(y_test, y_pred)))\n",
        "print(\"   Recall: {0:.5f}\".format(recall_score(y_test, y_pred)))\n",
        "print(\" f1 score: {0:.5f}\".format(f1_score(y_test, y_pred)))\n",
        "print()"
      ],
      "metadata": {
        "id": "-y0ERpLu4ObM",
        "colab": {
          "base_uri": "https://localhost:8080/"
        },
        "outputId": "15208ece-b053-4c17-bd1b-c5851bfbf62a"
      },
      "execution_count": 28,
      "outputs": [
        {
          "output_type": "stream",
          "name": "stdout",
          "text": [
            "**********  Avaliação das métricas do modelo random forest após otimização ***********\n",
            "Conjunto Treino\n",
            "\n",
            " Acurácia: 1.00000\n",
            " Precisão: 1.00000\n",
            "   Recall: 1.00000\n",
            " f1 score: 1.00000\n",
            "\n",
            "Conjunto Teste\n",
            "\n",
            "**********  Avaliação das métricas do modelo random forest ***********\n",
            "\n",
            " Acurácia: 0.92482\n",
            " Precisão: 0.91970\n",
            "   Recall: 0.90116\n",
            " f1 score: 0.91034\n",
            "\n"
          ]
        }
      ]
    }
  ]
}