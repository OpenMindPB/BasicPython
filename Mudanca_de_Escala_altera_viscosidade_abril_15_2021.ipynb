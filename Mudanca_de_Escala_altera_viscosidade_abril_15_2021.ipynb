{
  "nbformat": 4,
  "nbformat_minor": 0,
  "metadata": {
    "colab": {
      "name": "Mudanca_de_Escala_altera_viscosidade_abril_15_2021.ipynb",
      "provenance": [],
      "authorship_tag": "ABX9TyOS+/2rV8bgZDIl8sxki5sj",
      "include_colab_link": true
    },
    "kernelspec": {
      "name": "python3",
      "display_name": "Python 3"
    },
    "language_info": {
      "name": "python"
    }
  },
  "cells": [
    {
      "cell_type": "markdown",
      "metadata": {
        "id": "view-in-github",
        "colab_type": "text"
      },
      "source": [
        "<a href=\"https://colab.research.google.com/github/OpenMindPB/BasicPython/blob/main/Mudanca_de_Escala_altera_viscosidade_abril_15_2021.ipynb\" target=\"_parent\"><img src=\"https://colab.research.google.com/assets/colab-badge.svg\" alt=\"Open In Colab\"/></a>"
      ]
    },
    {
      "cell_type": "code",
      "metadata": {
        "colab": {
          "base_uri": "https://localhost:8080/"
        },
        "id": "FBD9N_29RJDa",
        "outputId": "33ebd598-40d3-49fd-8d9a-46e443a64a1f"
      },
      "source": [
        "di = 5/100\n",
        "Nrps = 800/60\n",
        "ro = 1000\n",
        "mi =0.001\n",
        "Re = 10000\n",
        "\n",
        "Re = ro*di**2*Nrps/mi; print('Re =', Re)\n",
        "mi = ro*di**2*Nrps/Re; print('mi=', mi)"
      ],
      "execution_count": 1,
      "outputs": [
        {
          "output_type": "stream",
          "text": [
            "Re = 33333.33333333334\n",
            "mi= 0.001\n"
          ],
          "name": "stdout"
        }
      ]
    },
    {
      "cell_type": "code",
      "metadata": {
        "colab": {
          "base_uri": "https://localhost:8080/"
        },
        "id": "RBvNQzJvVsTB",
        "outputId": "946f6f30-a3b7-4ebc-a1b3-1b06fc6c9182"
      },
      "source": [
        "import numpy as np\n",
        "u = np.pi*di*Nrps\n",
        "di_2 = di* 15\n",
        "Nrps_2 = u /(np.pi*di_2);print('Nrps_2 =',Nrps_2)\n",
        "mi_2= ro*di_2**2*Nrps_2/Re; print('mi=', mi_2)\n",
        "print('relacao viscosidade =',mi_2/mi)"
      ],
      "execution_count": 4,
      "outputs": [
        {
          "output_type": "stream",
          "text": [
            "Nrps_2 = 0.8888888888888891\n",
            "mi= 0.015\n",
            "relacao viscosidade = 15.0\n"
          ],
          "name": "stdout"
        }
      ]
    },
    {
      "cell_type": "code",
      "metadata": {
        "colab": {
          "base_uri": "https://localhost:8080/"
        },
        "id": "Bc1SK4v9e2yF",
        "outputId": "2d27a57d-26e4-42f3-8964-8fb100a5b6cc"
      },
      "source": [
        "import numpy as np\n",
        "Vol = 200 # m3\n",
        "VVM = 1\n",
        "Cel = 1E3\n",
        "tempo = 2 # semanas\n",
        "Q = Vol*VVM\n",
        "tempo = tempo * 7 * 24.0 * 60.0\n",
        "LRV = np.log10(Q*tempo*Cel/ 0.1); print('LRV =',LRV)\n",
        "LRV = np.log10(Q*tempo*Cel/ 1); print('LRV =',LRV)\n",
        "\n",
        "LRV = np.log10(Q*tempo*Cel/ 0.1); print('LRV/2 =',LRV/2)\n",
        "LRV = np.log10(Q*tempo*Cel/ 1); print('LRV/2 =',LRV/2)"
      ],
      "execution_count": 3,
      "outputs": [
        {
          "output_type": "stream",
          "text": [
            "LRV = 10.60552052343747\n",
            "LRV = 9.60552052343747\n",
            "LRV/2 = 5.302760261718735\n",
            "LRV/2 = 4.802760261718735\n"
          ],
          "name": "stdout"
        }
      ]
    }
  ]
}