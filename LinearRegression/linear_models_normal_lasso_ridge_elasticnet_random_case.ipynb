{
  "nbformat": 4,
  "nbformat_minor": 0,
  "metadata": {
    "colab": {
      "name": "linear_models_normal_lasso_ridge_elasticnet_random_case.ipynb",
      "provenance": [],
      "include_colab_link": true
    },
    "kernelspec": {
      "name": "python3",
      "display_name": "Python 3"
    },
    "language_info": {
      "name": "python"
    }
  },
  "cells": [
    {
      "cell_type": "markdown",
      "metadata": {
        "id": "view-in-github",
        "colab_type": "text"
      },
      "source": [
        "<a href=\"https://colab.research.google.com/github/OpenMindPB/BasicPython/blob/main/LinearRegression/linear_models_normal_lasso_ridge_elasticnet_random_case.ipynb\" target=\"_parent\"><img src=\"https://colab.research.google.com/assets/colab-badge.svg\" alt=\"Open In Colab\"/></a>"
      ]
    },
    {
      "cell_type": "code",
      "source": [
        "from sklearn import linear_model\n",
        "from sklearn.metrics import r2_score\n",
        "import numpy as np\n",
        "import pandas as pd"
      ],
      "metadata": {
        "id": "l3r19YvGql9d"
      },
      "execution_count": 1,
      "outputs": []
    },
    {
      "cell_type": "code",
      "source": [
        "# neste exemplo tem duas colunas de variaveis independentes repetidas \n",
        "# o modelo é y = x (caso exclua a variável repetida) e y = 0.5*x1+0.5*x2 (sem excluir)\n",
        "# o código mostra que o método regressao lasso (l1) consegue excluir uma das\n",
        "# variáveis ou seja além de regressão também atua na seleção de variáveis\n",
        "# já a regressão ridge (l2) não fez esta seleção"
      ],
      "metadata": {
        "id": "WzfQ7tjr2pLe"
      },
      "execution_count": 2,
      "outputs": []
    },
    {
      "cell_type": "code",
      "source": [
        "# generate an independent variable \n",
        "x = np.linspace(-10, 30, 100)\n",
        "# generate a normally distributed residual\n",
        "e = np.random.normal(5, 10, 100)\n",
        "# generate ground truth\n",
        "y = 10 + 100*x + e\n",
        "df = pd.DataFrame({'x1':x,'x2':x, 'y':y})\n",
        "df.head()"
      ],
      "metadata": {
        "colab": {
          "base_uri": "https://localhost:8080/",
          "height": 206
        },
        "id": "9tXv4oGRfLiu",
        "outputId": "8b663bc3-a4e6-44a1-bbaf-353f433fbd60"
      },
      "execution_count": 3,
      "outputs": [
        {
          "output_type": "execute_result",
          "data": {
            "text/plain": [
              "          x1         x2           y\n",
              "0 -10.000000 -10.000000 -995.237571\n",
              "1  -9.595960  -9.595960 -960.759322\n",
              "2  -9.191919  -9.191919 -895.728532\n",
              "3  -8.787879  -8.787879 -851.389362\n",
              "4  -8.383838  -8.383838 -827.005651"
            ],
            "text/html": [
              "\n",
              "  <div id=\"df-2bfc22e8-6082-4511-9899-5d9a3fc95b6e\">\n",
              "    <div class=\"colab-df-container\">\n",
              "      <div>\n",
              "<style scoped>\n",
              "    .dataframe tbody tr th:only-of-type {\n",
              "        vertical-align: middle;\n",
              "    }\n",
              "\n",
              "    .dataframe tbody tr th {\n",
              "        vertical-align: top;\n",
              "    }\n",
              "\n",
              "    .dataframe thead th {\n",
              "        text-align: right;\n",
              "    }\n",
              "</style>\n",
              "<table border=\"1\" class=\"dataframe\">\n",
              "  <thead>\n",
              "    <tr style=\"text-align: right;\">\n",
              "      <th></th>\n",
              "      <th>x1</th>\n",
              "      <th>x2</th>\n",
              "      <th>y</th>\n",
              "    </tr>\n",
              "  </thead>\n",
              "  <tbody>\n",
              "    <tr>\n",
              "      <th>0</th>\n",
              "      <td>-10.000000</td>\n",
              "      <td>-10.000000</td>\n",
              "      <td>-995.237571</td>\n",
              "    </tr>\n",
              "    <tr>\n",
              "      <th>1</th>\n",
              "      <td>-9.595960</td>\n",
              "      <td>-9.595960</td>\n",
              "      <td>-960.759322</td>\n",
              "    </tr>\n",
              "    <tr>\n",
              "      <th>2</th>\n",
              "      <td>-9.191919</td>\n",
              "      <td>-9.191919</td>\n",
              "      <td>-895.728532</td>\n",
              "    </tr>\n",
              "    <tr>\n",
              "      <th>3</th>\n",
              "      <td>-8.787879</td>\n",
              "      <td>-8.787879</td>\n",
              "      <td>-851.389362</td>\n",
              "    </tr>\n",
              "    <tr>\n",
              "      <th>4</th>\n",
              "      <td>-8.383838</td>\n",
              "      <td>-8.383838</td>\n",
              "      <td>-827.005651</td>\n",
              "    </tr>\n",
              "  </tbody>\n",
              "</table>\n",
              "</div>\n",
              "      <button class=\"colab-df-convert\" onclick=\"convertToInteractive('df-2bfc22e8-6082-4511-9899-5d9a3fc95b6e')\"\n",
              "              title=\"Convert this dataframe to an interactive table.\"\n",
              "              style=\"display:none;\">\n",
              "        \n",
              "  <svg xmlns=\"http://www.w3.org/2000/svg\" height=\"24px\"viewBox=\"0 0 24 24\"\n",
              "       width=\"24px\">\n",
              "    <path d=\"M0 0h24v24H0V0z\" fill=\"none\"/>\n",
              "    <path d=\"M18.56 5.44l.94 2.06.94-2.06 2.06-.94-2.06-.94-.94-2.06-.94 2.06-2.06.94zm-11 1L8.5 8.5l.94-2.06 2.06-.94-2.06-.94L8.5 2.5l-.94 2.06-2.06.94zm10 10l.94 2.06.94-2.06 2.06-.94-2.06-.94-.94-2.06-.94 2.06-2.06.94z\"/><path d=\"M17.41 7.96l-1.37-1.37c-.4-.4-.92-.59-1.43-.59-.52 0-1.04.2-1.43.59L10.3 9.45l-7.72 7.72c-.78.78-.78 2.05 0 2.83L4 21.41c.39.39.9.59 1.41.59.51 0 1.02-.2 1.41-.59l7.78-7.78 2.81-2.81c.8-.78.8-2.07 0-2.86zM5.41 20L4 18.59l7.72-7.72 1.47 1.35L5.41 20z\"/>\n",
              "  </svg>\n",
              "      </button>\n",
              "      \n",
              "  <style>\n",
              "    .colab-df-container {\n",
              "      display:flex;\n",
              "      flex-wrap:wrap;\n",
              "      gap: 12px;\n",
              "    }\n",
              "\n",
              "    .colab-df-convert {\n",
              "      background-color: #E8F0FE;\n",
              "      border: none;\n",
              "      border-radius: 50%;\n",
              "      cursor: pointer;\n",
              "      display: none;\n",
              "      fill: #1967D2;\n",
              "      height: 32px;\n",
              "      padding: 0 0 0 0;\n",
              "      width: 32px;\n",
              "    }\n",
              "\n",
              "    .colab-df-convert:hover {\n",
              "      background-color: #E2EBFA;\n",
              "      box-shadow: 0px 1px 2px rgba(60, 64, 67, 0.3), 0px 1px 3px 1px rgba(60, 64, 67, 0.15);\n",
              "      fill: #174EA6;\n",
              "    }\n",
              "\n",
              "    [theme=dark] .colab-df-convert {\n",
              "      background-color: #3B4455;\n",
              "      fill: #D2E3FC;\n",
              "    }\n",
              "\n",
              "    [theme=dark] .colab-df-convert:hover {\n",
              "      background-color: #434B5C;\n",
              "      box-shadow: 0px 1px 3px 1px rgba(0, 0, 0, 0.15);\n",
              "      filter: drop-shadow(0px 1px 2px rgba(0, 0, 0, 0.3));\n",
              "      fill: #FFFFFF;\n",
              "    }\n",
              "  </style>\n",
              "\n",
              "      <script>\n",
              "        const buttonEl =\n",
              "          document.querySelector('#df-2bfc22e8-6082-4511-9899-5d9a3fc95b6e button.colab-df-convert');\n",
              "        buttonEl.style.display =\n",
              "          google.colab.kernel.accessAllowed ? 'block' : 'none';\n",
              "\n",
              "        async function convertToInteractive(key) {\n",
              "          const element = document.querySelector('#df-2bfc22e8-6082-4511-9899-5d9a3fc95b6e');\n",
              "          const dataTable =\n",
              "            await google.colab.kernel.invokeFunction('convertToInteractive',\n",
              "                                                     [key], {});\n",
              "          if (!dataTable) return;\n",
              "\n",
              "          const docLinkHtml = 'Like what you see? Visit the ' +\n",
              "            '<a target=\"_blank\" href=https://colab.research.google.com/notebooks/data_table.ipynb>data table notebook</a>'\n",
              "            + ' to learn more about interactive tables.';\n",
              "          element.innerHTML = '';\n",
              "          dataTable['output_type'] = 'display_data';\n",
              "          await google.colab.output.renderOutput(dataTable, element);\n",
              "          const docLink = document.createElement('div');\n",
              "          docLink.innerHTML = docLinkHtml;\n",
              "          element.appendChild(docLink);\n",
              "        }\n",
              "      </script>\n",
              "    </div>\n",
              "  </div>\n",
              "  "
            ]
          },
          "metadata": {},
          "execution_count": 3
        }
      ]
    },
    {
      "cell_type": "code",
      "source": [
        "X=np.array(df[['x1','x2']])\n",
        "y = np.array(df['y'])\n",
        "y_test = np.copy(y)"
      ],
      "metadata": {
        "id": "Ge9U8J_HfcHo"
      },
      "execution_count": 4,
      "outputs": []
    },
    {
      "cell_type": "code",
      "execution_count": 5,
      "metadata": {
        "colab": {
          "base_uri": "https://localhost:8080/"
        },
        "id": "fE817Vb8o1R-",
        "outputId": "a7d1c209-9ff3-4763-c868-36a6da923fe3"
      },
      "outputs": [
        {
          "output_type": "stream",
          "name": "stdout",
          "text": [
            "[50.07256063 50.07256063]\n",
            "12.787407115455721\n",
            "0.9999455851382101\n"
          ]
        }
      ],
      "source": [
        "# modelo de regressão tradicional\n",
        "reg = linear_model.LinearRegression()\n",
        "reg.fit(X, y)\n",
        "y_pred = reg.predict(X)\n",
        "print(reg.coef_)\n",
        "print(reg.intercept_)\n",
        "print(r2_score(y_test, y_pred))"
      ]
    },
    {
      "cell_type": "code",
      "source": [
        "# modelo de regressão lasso\n",
        "# note que ele forneceu apenas uma das varávies (a outra tem coef angular zero)\n",
        "reg_lasso = linear_model.Lasso(alpha=0.1)\n",
        "reg_lasso.fit(X,y)\n",
        "y_pred = reg_lasso.predict(X)\n",
        "\n",
        "print('coeficientes angulares=',reg_lasso.coef_)\n",
        "print('coeficiente linear=',reg_lasso.intercept_)\n",
        "print('r^2=',r2_score(y_test, y_pred))"
      ],
      "metadata": {
        "colab": {
          "base_uri": "https://localhost:8080/"
        },
        "id": "rQeXxatEqEwe",
        "outputId": "189dc570-cd34-427d-fd48-a174e9e20393"
      },
      "execution_count": 6,
      "outputs": [
        {
          "output_type": "stream",
          "name": "stdout",
          "text": [
            "coeficientes angulares= [100.14438612   0.        ]\n",
            "coeficiente linear= 12.794758600604041\n",
            "r^2= 0.9999455850843252\n"
          ]
        }
      ]
    },
    {
      "cell_type": "code",
      "source": [
        "# modelo de regressão ridge\n",
        "# note que ele forneceu as duas varávies \n",
        "reg_ridge = linear_model.Ridge(alpha=1)\n",
        "reg_ridge.fit(X, y)\n",
        "y_pred = reg_ridge.predict(X)\n",
        "\n",
        "print('coeficientes angulares=',reg_ridge.coef_)\n",
        "print('coeficiente linear=',reg_ridge.intercept_)\n",
        "print('r^2=',r2_score(y_test, y_pred))"
      ],
      "metadata": {
        "colab": {
          "base_uri": "https://localhost:8080/"
        },
        "id": "_qnqoWcErBs6",
        "outputId": "acca6e97-9e93-4da6-efdb-a2defe42ecb1"
      },
      "execution_count": 7,
      "outputs": [
        {
          "output_type": "stream",
          "name": "stdout",
          "text": [
            "coeficientes angulares= [50.07072016 50.07072016]\n",
            "coeficiente linear= 12.824216531019943\n",
            "r^2= 0.9999455837872746\n"
          ]
        }
      ]
    },
    {
      "cell_type": "code",
      "source": [
        "# modelo de regressão elasticNet considerando l1_ration = 0.5\n",
        "# obs: l2_ratio = 1 -l1_ration\n",
        "# note que ele forneceu as duas varávies com pesos difentes para \n",
        "# este caso específico\n",
        "reg_ElasticNet = linear_model.ElasticNet(alpha=0.1,l1_ratio =0.5)\n",
        "reg_ElasticNet.fit(X, y)\n",
        "y_pred = reg_ElasticNet.predict(X)\n",
        "\n",
        "print('coeficientes angulares=',reg_ElasticNet.coef_)\n",
        "print('coeficiente linear=',reg_ElasticNet.intercept_)\n",
        "print('r^2=',r2_score(y_test, y_pred))"
      ],
      "metadata": {
        "colab": {
          "base_uri": "https://localhost:8080/"
        },
        "id": "TwMHYrLHh6VI",
        "outputId": "286020f4-8b87-4d09-89a6-078907f1da5f"
      },
      "execution_count": 8,
      "outputs": [
        {
          "output_type": "stream",
          "name": "stdout",
          "text": [
            "coeficientes angulares= [74.07724315 26.05793231]\n",
            "coeficiente linear= 12.88686510923526\n",
            "r^2= 0.9999455752755024\n"
          ]
        },
        {
          "output_type": "stream",
          "name": "stderr",
          "text": [
            "/usr/local/lib/python3.7/dist-packages/sklearn/linear_model/_coordinate_descent.py:648: ConvergenceWarning: Objective did not converge. You might want to increase the number of iterations, check the scale of the features or consider increasing regularisation. Duality gap: 1.919e+04, tolerance: 1.364e+04\n",
            "  coef_, l1_reg, l2_reg, X, y, max_iter, tol, rng, random, positive\n"
          ]
        }
      ]
    }
  ]
}