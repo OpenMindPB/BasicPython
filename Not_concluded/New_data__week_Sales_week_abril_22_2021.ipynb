{
  "nbformat": 4,
  "nbformat_minor": 0,
  "metadata": {
    "kernelspec": {
      "display_name": "Python 3",
      "language": "python",
      "name": "python3"
    },
    "language_info": {
      "codemirror_mode": {
        "name": "ipython",
        "version": 3
      },
      "file_extension": ".py",
      "mimetype": "text/x-python",
      "name": "python",
      "nbconvert_exporter": "python",
      "pygments_lexer": "ipython3",
      "version": "3.5.4"
    },
    "colab": {
      "name": "New_data_ week_Sales_week_abril_22_2021.ipynb",
      "provenance": [],
      "include_colab_link": true
    }
  },
  "cells": [
    {
      "cell_type": "markdown",
      "metadata": {
        "id": "view-in-github",
        "colab_type": "text"
      },
      "source": [
        "<a href=\"https://colab.research.google.com/github/OpenMindPB/BasicPython/blob/main/Not_concluded/New_data__week_Sales_week_abril_22_2021.ipynb\" target=\"_parent\"><img src=\"https://colab.research.google.com/assets/colab-badge.svg\" alt=\"Open In Colab\"/></a>"
      ]
    },
    {
      "cell_type": "code",
      "metadata": {
        "id": "cF6kzanWQZgh"
      },
      "source": [
        "# bibliotecas usadas\n",
        "#import os\n",
        "import numpy as np\n",
        "import pandas as pd\n",
        "import matplotlib.pyplot as plt\n",
        "from sklearn.neural_network import MLPRegressor\n",
        "from sklearn.metrics import mean_squared_error\n",
        "from sklearn.metrics import r2_score \n",
        "from google.colab import files"
      ],
      "execution_count": 276,
      "outputs": []
    },
    {
      "cell_type": "code",
      "metadata": {
        "id": "UW1APYrFQZgl"
      },
      "source": [
        "# para gerar o grafico no browser\n",
        "%matplotlib inline"
      ],
      "execution_count": 277,
      "outputs": []
    },
    {
      "cell_type": "code",
      "metadata": {
        "colab": {
          "base_uri": "https://localhost:8080/"
        },
        "id": "3762UQjx0fR4",
        "outputId": "ce09db33-ce65-4cc1-f708-d7c73e80e893"
      },
      "source": [
        "#clonar do Github\n",
        "!git clone https://github.com/OpenMindPB/Data\n",
        "%cd Data"
      ],
      "execution_count": 278,
      "outputs": [
        {
          "output_type": "stream",
          "text": [
            "Cloning into 'Data'...\n",
            "remote: Enumerating objects: 32, done.\u001b[K\n",
            "remote: Counting objects: 100% (32/32), done.\u001b[K\n",
            "remote: Compressing objects: 100% (30/30), done.\u001b[K\n",
            "remote: Total 32 (delta 11), reused 0 (delta 0), pack-reused 0\u001b[K\n",
            "Unpacking objects: 100% (32/32), done.\n",
            "/content/Data/Data/Data/Data/Data/Data/Data/Data/Data/Data\n"
          ],
          "name": "stdout"
        }
      ]
    },
    {
      "cell_type": "code",
      "metadata": {
        "id": "xXGUkYVD1q87"
      },
      "source": [
        "df = pd.read_excel(\"Superstore_week.xlsx\")"
      ],
      "execution_count": 279,
      "outputs": []
    },
    {
      "cell_type": "code",
      "metadata": {
        "colab": {
          "base_uri": "https://localhost:8080/",
          "height": 247
        },
        "id": "x35V_djsc9LI",
        "outputId": "1f2a60ce-a9ae-42d5-a36f-9bf9b9f1aec8"
      },
      "source": [
        "df.tail(3)"
      ],
      "execution_count": 280,
      "outputs": [
        {
          "output_type": "execute_result",
          "data": {
            "text/html": [
              "<div>\n",
              "<style scoped>\n",
              "    .dataframe tbody tr th:only-of-type {\n",
              "        vertical-align: middle;\n",
              "    }\n",
              "\n",
              "    .dataframe tbody tr th {\n",
              "        vertical-align: top;\n",
              "    }\n",
              "\n",
              "    .dataframe thead th {\n",
              "        text-align: right;\n",
              "    }\n",
              "</style>\n",
              "<table border=\"1\" class=\"dataframe\">\n",
              "  <thead>\n",
              "    <tr style=\"text-align: right;\">\n",
              "      <th></th>\n",
              "      <th>Order Date</th>\n",
              "      <th>Ship Date</th>\n",
              "      <th>Segment</th>\n",
              "      <th>City</th>\n",
              "      <th>State</th>\n",
              "      <th>Region</th>\n",
              "      <th>Category</th>\n",
              "      <th>Sub-Category</th>\n",
              "      <th>Sales</th>\n",
              "      <th>Quantity</th>\n",
              "      <th>Discount</th>\n",
              "      <th>Profit</th>\n",
              "      <th>Year</th>\n",
              "      <th>Month</th>\n",
              "      <th>Week</th>\n",
              "      <th>Year Sales</th>\n",
              "      <th>Month Sales</th>\n",
              "      <th>Week Sales</th>\n",
              "      <th>Week Quantity</th>\n",
              "      <th>Week Discout count</th>\n",
              "      <th>Sales week Average</th>\n",
              "    </tr>\n",
              "  </thead>\n",
              "  <tbody>\n",
              "    <tr>\n",
              "      <th>2118</th>\n",
              "      <td>2017-12-29</td>\n",
              "      <td>2018-01-01</td>\n",
              "      <td>Consumer</td>\n",
              "      <td>Louisville</td>\n",
              "      <td>Kentucky</td>\n",
              "      <td>South</td>\n",
              "      <td>Furniture</td>\n",
              "      <td>Chairs</td>\n",
              "      <td>300.980</td>\n",
              "      <td>1</td>\n",
              "      <td>0.0</td>\n",
              "      <td>87.2842</td>\n",
              "      <td>2017</td>\n",
              "      <td>12</td>\n",
              "      <td>52</td>\n",
              "      <td>249479.032406</td>\n",
              "      <td>90410.5007</td>\n",
              "      <td>15447.443</td>\n",
              "      <td>215</td>\n",
              "      <td>33</td>\n",
              "      <td>236.132991</td>\n",
              "    </tr>\n",
              "    <tr>\n",
              "      <th>2119</th>\n",
              "      <td>2017-12-29</td>\n",
              "      <td>2018-01-01</td>\n",
              "      <td>Consumer</td>\n",
              "      <td>Louisville</td>\n",
              "      <td>Kentucky</td>\n",
              "      <td>South</td>\n",
              "      <td>Furniture</td>\n",
              "      <td>Chairs</td>\n",
              "      <td>258.750</td>\n",
              "      <td>3</td>\n",
              "      <td>0.0</td>\n",
              "      <td>77.6250</td>\n",
              "      <td>2017</td>\n",
              "      <td>12</td>\n",
              "      <td>52</td>\n",
              "      <td>249479.032406</td>\n",
              "      <td>90410.5007</td>\n",
              "      <td>15447.443</td>\n",
              "      <td>215</td>\n",
              "      <td>33</td>\n",
              "      <td>236.132991</td>\n",
              "    </tr>\n",
              "    <tr>\n",
              "      <th>2120</th>\n",
              "      <td>2017-12-30</td>\n",
              "      <td>2018-01-03</td>\n",
              "      <td>Consumer</td>\n",
              "      <td>New York City</td>\n",
              "      <td>New York</td>\n",
              "      <td>East</td>\n",
              "      <td>Furniture</td>\n",
              "      <td>Bookcases</td>\n",
              "      <td>323.136</td>\n",
              "      <td>4</td>\n",
              "      <td>0.2</td>\n",
              "      <td>12.1176</td>\n",
              "      <td>2017</td>\n",
              "      <td>12</td>\n",
              "      <td>52</td>\n",
              "      <td>249479.032406</td>\n",
              "      <td>90410.5007</td>\n",
              "      <td>15447.443</td>\n",
              "      <td>215</td>\n",
              "      <td>33</td>\n",
              "      <td>236.132991</td>\n",
              "    </tr>\n",
              "  </tbody>\n",
              "</table>\n",
              "</div>"
            ],
            "text/plain": [
              "     Order Date  Ship Date  ... Week Discout count Sales week Average\n",
              "2118 2017-12-29 2018-01-01  ...                 33         236.132991\n",
              "2119 2017-12-29 2018-01-01  ...                 33         236.132991\n",
              "2120 2017-12-30 2018-01-03  ...                 33         236.132991\n",
              "\n",
              "[3 rows x 21 columns]"
            ]
          },
          "metadata": {
            "tags": []
          },
          "execution_count": 280
        }
      ]
    },
    {
      "cell_type": "code",
      "metadata": {
        "colab": {
          "base_uri": "https://localhost:8080/"
        },
        "id": "sMr8asqxgmq6",
        "outputId": "4c4b96ac-8937-42b5-aaea-65ec68e5e616"
      },
      "source": [
        "print(df.columns)"
      ],
      "execution_count": 281,
      "outputs": [
        {
          "output_type": "stream",
          "text": [
            "Index(['Order Date', 'Ship Date', 'Segment', 'City', 'State', 'Region',\n",
            "       'Category', 'Sub-Category', 'Sales', 'Quantity', 'Discount', 'Profit',\n",
            "       'Year', 'Month', 'Week', 'Year Sales', 'Month Sales', 'Week Sales',\n",
            "       'Week Quantity ', 'Week Discout count', 'Sales week Average'],\n",
            "      dtype='object')\n"
          ],
          "name": "stdout"
        }
      ]
    },
    {
      "cell_type": "code",
      "metadata": {
        "id": "l5_lY9_wQZgp"
      },
      "source": [
        "# funcao normatiza dados\n",
        "def Normatiza(x):\n",
        "    strings=list(x)\n",
        "    for i in strings:\n",
        "        max_x=x[i].max()\n",
        "        min_x=x[i].min()\n",
        "        a=(max_x+min_x)/2\n",
        "        b=(max_x-min_x)/2\n",
        "        x[i]=(x[i]-a)/b\n",
        "        #x[i]=0.8*(x[i]-min_x)/(max_x-min_x)+0.1\n",
        "    return x"
      ],
      "execution_count": 282,
      "outputs": []
    },
    {
      "cell_type": "code",
      "metadata": {
        "id": "rwt3mObvQZgq"
      },
      "source": [
        "# funcao retorna os dados a forma original\n",
        "def Original(x,x_old):\n",
        "    strings=list(x)\n",
        "    for i in strings:\n",
        "        max_x=x_old[i].max()\n",
        "        min_x=x_old[i].min()\n",
        "        a=(max_x+min_x)/2\n",
        "        b=(max_x-min_x)/2\n",
        "        x[i]=x[i]*b+a\n",
        "    return x"
      ],
      "execution_count": 283,
      "outputs": []
    },
    {
      "cell_type": "code",
      "metadata": {
        "id": "oJu4qPn2YdHi"
      },
      "source": [
        "furniture = df.loc[df['Category'] == 'Furniture']\n",
        "furniture = furniture.groupby('Order Date')['Sales'].sum().reset_index()\n",
        "furniture = furniture.set_index('Order Date')\n",
        "y = furniture['Sales'].resample('W').mean()\n",
        "names = y.index\n",
        "y = y.reset_index()"
      ],
      "execution_count": 284,
      "outputs": []
    },
    {
      "cell_type": "code",
      "metadata": {
        "id": "hA-3QbNOc2V-"
      },
      "source": [
        "y = furniture['Sales'].resample('W').mean()\n",
        "w = furniture['Sales'].resample('W').mean()"
      ],
      "execution_count": 285,
      "outputs": []
    },
    {
      "cell_type": "code",
      "metadata": {
        "id": "ByggzGNLbv39"
      },
      "source": [
        "w\n",
        "import datetime\n",
        "months = []\n",
        "years  = []\n",
        "weeks = []\n",
        "for i in names:\n",
        "  months.append(i.month)\n",
        "  years.append(i.year)\n",
        "  weeks.append(i.week)\n"
      ],
      "execution_count": 286,
      "outputs": []
    },
    {
      "cell_type": "code",
      "metadata": {
        "id": "zCWCRyHxcKcZ"
      },
      "source": [
        "Names =['Sales','Quantity','Discount','Profit','Year','Month','Week',\n",
        "        'Year Sales','Month Sales','Week Sales','Week Quantity',\n",
        "        'Week Discout count','Sales week Average']\n",
        "Names =['Sales','Year','Month','Week',\n",
        "        'Year Sales','Month Sales','Week Sales',\n",
        "        'Week Discout count','Sales week Average']\n",
        "N = len(Names)\n",
        "M = y.shape[0]\n",
        "dataframe = pd.DataFrame(np.zeros((M,N)),columns=Names)\n",
        "k =0\n",
        "for i in Names:\n",
        "  furniture = df.loc[df['Category'] == 'Furniture']\n",
        "  furniture = furniture.groupby('Order Date')[i].sum().reset_index()\n",
        "  furniture = furniture.set_index('Order Date')\n",
        "  y = furniture[i].resample('W').mean()\n",
        "  dataframe[i] =pd.DataFrame(y.values)\n",
        "  k = k+1"
      ],
      "execution_count": 287,
      "outputs": []
    },
    {
      "cell_type": "code",
      "metadata": {
        "id": "yZC3UMt-ebOq"
      },
      "source": [
        "dataframe['Year']= years\n",
        "dataframe['Month']= months\n",
        "dataframe['Week'] = weeks"
      ],
      "execution_count": 288,
      "outputs": []
    },
    {
      "cell_type": "code",
      "metadata": {
        "colab": {
          "base_uri": "https://localhost:8080/",
          "height": 419
        },
        "id": "a-3Ps8bSjXIr",
        "outputId": "30267bea-ff0b-435e-96ce-ea5d6b1240f6"
      },
      "source": [
        "dataframe"
      ],
      "execution_count": 289,
      "outputs": [
        {
          "output_type": "execute_result",
          "data": {
            "text/html": [
              "<div>\n",
              "<style scoped>\n",
              "    .dataframe tbody tr th:only-of-type {\n",
              "        vertical-align: middle;\n",
              "    }\n",
              "\n",
              "    .dataframe tbody tr th {\n",
              "        vertical-align: top;\n",
              "    }\n",
              "\n",
              "    .dataframe thead th {\n",
              "        text-align: right;\n",
              "    }\n",
              "</style>\n",
              "<table border=\"1\" class=\"dataframe\">\n",
              "  <thead>\n",
              "    <tr style=\"text-align: right;\">\n",
              "      <th></th>\n",
              "      <th>Sales</th>\n",
              "      <th>Year</th>\n",
              "      <th>Month</th>\n",
              "      <th>Week</th>\n",
              "      <th>Year Sales</th>\n",
              "      <th>Month Sales</th>\n",
              "      <th>Week Sales</th>\n",
              "      <th>Week Discout count</th>\n",
              "      <th>Sales week Average</th>\n",
              "    </tr>\n",
              "  </thead>\n",
              "  <tbody>\n",
              "    <tr>\n",
              "      <th>0</th>\n",
              "      <td>678.107000</td>\n",
              "      <td>2014</td>\n",
              "      <td>1</td>\n",
              "      <td>2</td>\n",
              "      <td>1.571929e+05</td>\n",
              "      <td>25605.209600</td>\n",
              "      <td>7181.310000</td>\n",
              "      <td>5.000000</td>\n",
              "      <td>678.107000</td>\n",
              "    </tr>\n",
              "    <tr>\n",
              "      <th>1</th>\n",
              "      <td>312.618250</td>\n",
              "      <td>2014</td>\n",
              "      <td>1</td>\n",
              "      <td>3</td>\n",
              "      <td>1.964911e+05</td>\n",
              "      <td>32006.512000</td>\n",
              "      <td>3535.260500</td>\n",
              "      <td>9.000000</td>\n",
              "      <td>325.116036</td>\n",
              "    </tr>\n",
              "    <tr>\n",
              "      <th>2</th>\n",
              "      <td>551.986000</td>\n",
              "      <td>2014</td>\n",
              "      <td>1</td>\n",
              "      <td>4</td>\n",
              "      <td>4.715786e+05</td>\n",
              "      <td>76815.628800</td>\n",
              "      <td>17968.494000</td>\n",
              "      <td>24.000000</td>\n",
              "      <td>631.095486</td>\n",
              "    </tr>\n",
              "    <tr>\n",
              "      <th>3</th>\n",
              "      <td>311.833000</td>\n",
              "      <td>2014</td>\n",
              "      <td>2</td>\n",
              "      <td>5</td>\n",
              "      <td>1.571929e+05</td>\n",
              "      <td>25605.209600</td>\n",
              "      <td>9874.666000</td>\n",
              "      <td>8.000000</td>\n",
              "      <td>168.173200</td>\n",
              "    </tr>\n",
              "    <tr>\n",
              "      <th>4</th>\n",
              "      <td>14.560000</td>\n",
              "      <td>2014</td>\n",
              "      <td>2</td>\n",
              "      <td>6</td>\n",
              "      <td>1.571929e+05</td>\n",
              "      <td>8899.583000</td>\n",
              "      <td>3745.516000</td>\n",
              "      <td>5.000000</td>\n",
              "      <td>14.560000</td>\n",
              "    </tr>\n",
              "    <tr>\n",
              "      <th>...</th>\n",
              "      <td>...</td>\n",
              "      <td>...</td>\n",
              "      <td>...</td>\n",
              "      <td>...</td>\n",
              "      <td>...</td>\n",
              "      <td>...</td>\n",
              "      <td>...</td>\n",
              "      <td>...</td>\n",
              "      <td>...</td>\n",
              "    </tr>\n",
              "    <tr>\n",
              "      <th>203</th>\n",
              "      <td>2286.881714</td>\n",
              "      <td>2017</td>\n",
              "      <td>12</td>\n",
              "      <td>48</td>\n",
              "      <td>1.140476e+06</td>\n",
              "      <td>401825.836471</td>\n",
              "      <td>87043.009500</td>\n",
              "      <td>163.857143</td>\n",
              "      <td>2159.181658</td>\n",
              "    </tr>\n",
              "    <tr>\n",
              "      <th>204</th>\n",
              "      <td>1465.734000</td>\n",
              "      <td>2017</td>\n",
              "      <td>12</td>\n",
              "      <td>49</td>\n",
              "      <td>1.164235e+06</td>\n",
              "      <td>421915.669933</td>\n",
              "      <td>105316.269583</td>\n",
              "      <td>149.166667</td>\n",
              "      <td>1228.757873</td>\n",
              "    </tr>\n",
              "    <tr>\n",
              "      <th>205</th>\n",
              "      <td>773.303167</td>\n",
              "      <td>2017</td>\n",
              "      <td>12</td>\n",
              "      <td>50</td>\n",
              "      <td>7.900169e+05</td>\n",
              "      <td>286299.918883</td>\n",
              "      <td>56323.198083</td>\n",
              "      <td>61.000000</td>\n",
              "      <td>901.464683</td>\n",
              "    </tr>\n",
              "    <tr>\n",
              "      <th>206</th>\n",
              "      <td>1212.340500</td>\n",
              "      <td>2017</td>\n",
              "      <td>12</td>\n",
              "      <td>51</td>\n",
              "      <td>9.147565e+05</td>\n",
              "      <td>331505.169233</td>\n",
              "      <td>76836.788667</td>\n",
              "      <td>112.500000</td>\n",
              "      <td>1167.538484</td>\n",
              "    </tr>\n",
              "    <tr>\n",
              "      <th>207</th>\n",
              "      <td>1009.391200</td>\n",
              "      <td>2017</td>\n",
              "      <td>12</td>\n",
              "      <td>52</td>\n",
              "      <td>1.122656e+06</td>\n",
              "      <td>406847.253150</td>\n",
              "      <td>69513.493500</td>\n",
              "      <td>148.500000</td>\n",
              "      <td>1062.598461</td>\n",
              "    </tr>\n",
              "  </tbody>\n",
              "</table>\n",
              "<p>208 rows × 9 columns</p>\n",
              "</div>"
            ],
            "text/plain": [
              "           Sales  Year  ...  Week Discout count  Sales week Average\n",
              "0     678.107000  2014  ...            5.000000          678.107000\n",
              "1     312.618250  2014  ...            9.000000          325.116036\n",
              "2     551.986000  2014  ...           24.000000          631.095486\n",
              "3     311.833000  2014  ...            8.000000          168.173200\n",
              "4      14.560000  2014  ...            5.000000           14.560000\n",
              "..           ...   ...  ...                 ...                 ...\n",
              "203  2286.881714  2017  ...          163.857143         2159.181658\n",
              "204  1465.734000  2017  ...          149.166667         1228.757873\n",
              "205   773.303167  2017  ...           61.000000          901.464683\n",
              "206  1212.340500  2017  ...          112.500000         1167.538484\n",
              "207  1009.391200  2017  ...          148.500000         1062.598461\n",
              "\n",
              "[208 rows x 9 columns]"
            ]
          },
          "metadata": {
            "tags": []
          },
          "execution_count": 289
        }
      ]
    },
    {
      "cell_type": "code",
      "metadata": {
        "id": "iZeo-dQ7Crb-"
      },
      "source": [
        "DAT =dataframe.copy()\n",
        "y = DAT['Sales']\n",
        "y1 = y.shift(1)\n",
        "y2 = y.shift(2)\n",
        "y3 = y.shift(3)\n",
        "y52=y.shift(52)\n",
        "y51=y.shift(51)\n",
        "y50=y.shift(50)\n",
        "DAT.drop('Sales',axis='columns', inplace=True)"
      ],
      "execution_count": 290,
      "outputs": []
    },
    {
      "cell_type": "code",
      "metadata": {
        "id": "sKO1NySDIpIA"
      },
      "source": [
        "DAT['t-52']=y52;DAT['t-51']=y51;DAT['t-50']=y50;DAT['t-1']=y1;DAT['t-2']=y2;DAT['t-3']=y3;DAT['Sales']=y;\n",
        "#DAT['t-1']=y1;DAT['t-2']=y2;DAT['t-3']=y3;DAT['Sales']=y;\n",
        "#DAT.head()"
      ],
      "execution_count": 291,
      "outputs": []
    },
    {
      "cell_type": "code",
      "metadata": {
        "id": "z_Oe8TdYZBKa",
        "colab": {
          "base_uri": "https://localhost:8080/",
          "height": 473
        },
        "outputId": "9670bedc-e9fb-47eb-f696-1b8273ba7818"
      },
      "source": [
        "DAT"
      ],
      "execution_count": 292,
      "outputs": [
        {
          "output_type": "execute_result",
          "data": {
            "text/html": [
              "<div>\n",
              "<style scoped>\n",
              "    .dataframe tbody tr th:only-of-type {\n",
              "        vertical-align: middle;\n",
              "    }\n",
              "\n",
              "    .dataframe tbody tr th {\n",
              "        vertical-align: top;\n",
              "    }\n",
              "\n",
              "    .dataframe thead th {\n",
              "        text-align: right;\n",
              "    }\n",
              "</style>\n",
              "<table border=\"1\" class=\"dataframe\">\n",
              "  <thead>\n",
              "    <tr style=\"text-align: right;\">\n",
              "      <th></th>\n",
              "      <th>Year</th>\n",
              "      <th>Month</th>\n",
              "      <th>Week</th>\n",
              "      <th>Year Sales</th>\n",
              "      <th>Month Sales</th>\n",
              "      <th>Week Sales</th>\n",
              "      <th>Week Discout count</th>\n",
              "      <th>Sales week Average</th>\n",
              "      <th>t-52</th>\n",
              "      <th>t-51</th>\n",
              "      <th>t-50</th>\n",
              "      <th>t-1</th>\n",
              "      <th>t-2</th>\n",
              "      <th>t-3</th>\n",
              "      <th>Sales</th>\n",
              "    </tr>\n",
              "  </thead>\n",
              "  <tbody>\n",
              "    <tr>\n",
              "      <th>0</th>\n",
              "      <td>2014</td>\n",
              "      <td>1</td>\n",
              "      <td>2</td>\n",
              "      <td>1.571929e+05</td>\n",
              "      <td>25605.209600</td>\n",
              "      <td>7181.310000</td>\n",
              "      <td>5.000000</td>\n",
              "      <td>678.107000</td>\n",
              "      <td>NaN</td>\n",
              "      <td>NaN</td>\n",
              "      <td>NaN</td>\n",
              "      <td>NaN</td>\n",
              "      <td>NaN</td>\n",
              "      <td>NaN</td>\n",
              "      <td>678.107000</td>\n",
              "    </tr>\n",
              "    <tr>\n",
              "      <th>1</th>\n",
              "      <td>2014</td>\n",
              "      <td>1</td>\n",
              "      <td>3</td>\n",
              "      <td>1.964911e+05</td>\n",
              "      <td>32006.512000</td>\n",
              "      <td>3535.260500</td>\n",
              "      <td>9.000000</td>\n",
              "      <td>325.116036</td>\n",
              "      <td>NaN</td>\n",
              "      <td>NaN</td>\n",
              "      <td>NaN</td>\n",
              "      <td>678.107000</td>\n",
              "      <td>NaN</td>\n",
              "      <td>NaN</td>\n",
              "      <td>312.618250</td>\n",
              "    </tr>\n",
              "    <tr>\n",
              "      <th>2</th>\n",
              "      <td>2014</td>\n",
              "      <td>1</td>\n",
              "      <td>4</td>\n",
              "      <td>4.715786e+05</td>\n",
              "      <td>76815.628800</td>\n",
              "      <td>17968.494000</td>\n",
              "      <td>24.000000</td>\n",
              "      <td>631.095486</td>\n",
              "      <td>NaN</td>\n",
              "      <td>NaN</td>\n",
              "      <td>NaN</td>\n",
              "      <td>312.618250</td>\n",
              "      <td>678.107000</td>\n",
              "      <td>NaN</td>\n",
              "      <td>551.986000</td>\n",
              "    </tr>\n",
              "    <tr>\n",
              "      <th>3</th>\n",
              "      <td>2014</td>\n",
              "      <td>2</td>\n",
              "      <td>5</td>\n",
              "      <td>1.571929e+05</td>\n",
              "      <td>25605.209600</td>\n",
              "      <td>9874.666000</td>\n",
              "      <td>8.000000</td>\n",
              "      <td>168.173200</td>\n",
              "      <td>NaN</td>\n",
              "      <td>NaN</td>\n",
              "      <td>NaN</td>\n",
              "      <td>551.986000</td>\n",
              "      <td>312.618250</td>\n",
              "      <td>678.107000</td>\n",
              "      <td>311.833000</td>\n",
              "    </tr>\n",
              "    <tr>\n",
              "      <th>4</th>\n",
              "      <td>2014</td>\n",
              "      <td>2</td>\n",
              "      <td>6</td>\n",
              "      <td>1.571929e+05</td>\n",
              "      <td>8899.583000</td>\n",
              "      <td>3745.516000</td>\n",
              "      <td>5.000000</td>\n",
              "      <td>14.560000</td>\n",
              "      <td>NaN</td>\n",
              "      <td>NaN</td>\n",
              "      <td>NaN</td>\n",
              "      <td>311.833000</td>\n",
              "      <td>551.986000</td>\n",
              "      <td>312.618250</td>\n",
              "      <td>14.560000</td>\n",
              "    </tr>\n",
              "    <tr>\n",
              "      <th>...</th>\n",
              "      <td>...</td>\n",
              "      <td>...</td>\n",
              "      <td>...</td>\n",
              "      <td>...</td>\n",
              "      <td>...</td>\n",
              "      <td>...</td>\n",
              "      <td>...</td>\n",
              "      <td>...</td>\n",
              "      <td>...</td>\n",
              "      <td>...</td>\n",
              "      <td>...</td>\n",
              "      <td>...</td>\n",
              "      <td>...</td>\n",
              "      <td>...</td>\n",
              "      <td>...</td>\n",
              "    </tr>\n",
              "    <tr>\n",
              "      <th>203</th>\n",
              "      <td>2017</td>\n",
              "      <td>12</td>\n",
              "      <td>48</td>\n",
              "      <td>1.140476e+06</td>\n",
              "      <td>401825.836471</td>\n",
              "      <td>87043.009500</td>\n",
              "      <td>163.857143</td>\n",
              "      <td>2159.181658</td>\n",
              "      <td>869.623571</td>\n",
              "      <td>2056.510400</td>\n",
              "      <td>1169.541571</td>\n",
              "      <td>1152.482667</td>\n",
              "      <td>1029.662143</td>\n",
              "      <td>902.652286</td>\n",
              "      <td>2286.881714</td>\n",
              "    </tr>\n",
              "    <tr>\n",
              "      <th>204</th>\n",
              "      <td>2017</td>\n",
              "      <td>12</td>\n",
              "      <td>49</td>\n",
              "      <td>1.164235e+06</td>\n",
              "      <td>421915.669933</td>\n",
              "      <td>105316.269583</td>\n",
              "      <td>149.166667</td>\n",
              "      <td>1228.757873</td>\n",
              "      <td>2056.510400</td>\n",
              "      <td>1169.541571</td>\n",
              "      <td>1696.889500</td>\n",
              "      <td>2286.881714</td>\n",
              "      <td>1152.482667</td>\n",
              "      <td>1029.662143</td>\n",
              "      <td>1465.734000</td>\n",
              "    </tr>\n",
              "    <tr>\n",
              "      <th>205</th>\n",
              "      <td>2017</td>\n",
              "      <td>12</td>\n",
              "      <td>50</td>\n",
              "      <td>7.900169e+05</td>\n",
              "      <td>286299.918883</td>\n",
              "      <td>56323.198083</td>\n",
              "      <td>61.000000</td>\n",
              "      <td>901.464683</td>\n",
              "      <td>1169.541571</td>\n",
              "      <td>1696.889500</td>\n",
              "      <td>815.755600</td>\n",
              "      <td>1465.734000</td>\n",
              "      <td>2286.881714</td>\n",
              "      <td>1152.482667</td>\n",
              "      <td>773.303167</td>\n",
              "    </tr>\n",
              "    <tr>\n",
              "      <th>206</th>\n",
              "      <td>2017</td>\n",
              "      <td>12</td>\n",
              "      <td>51</td>\n",
              "      <td>9.147565e+05</td>\n",
              "      <td>331505.169233</td>\n",
              "      <td>76836.788667</td>\n",
              "      <td>112.500000</td>\n",
              "      <td>1167.538484</td>\n",
              "      <td>1696.889500</td>\n",
              "      <td>815.755600</td>\n",
              "      <td>903.205000</td>\n",
              "      <td>773.303167</td>\n",
              "      <td>1465.734000</td>\n",
              "      <td>2286.881714</td>\n",
              "      <td>1212.340500</td>\n",
              "    </tr>\n",
              "    <tr>\n",
              "      <th>207</th>\n",
              "      <td>2017</td>\n",
              "      <td>12</td>\n",
              "      <td>52</td>\n",
              "      <td>1.122656e+06</td>\n",
              "      <td>406847.253150</td>\n",
              "      <td>69513.493500</td>\n",
              "      <td>148.500000</td>\n",
              "      <td>1062.598461</td>\n",
              "      <td>815.755600</td>\n",
              "      <td>903.205000</td>\n",
              "      <td>89.860000</td>\n",
              "      <td>1212.340500</td>\n",
              "      <td>773.303167</td>\n",
              "      <td>1465.734000</td>\n",
              "      <td>1009.391200</td>\n",
              "    </tr>\n",
              "  </tbody>\n",
              "</table>\n",
              "<p>208 rows × 15 columns</p>\n",
              "</div>"
            ],
            "text/plain": [
              "     Year  Month  Week  ...          t-2          t-3        Sales\n",
              "0    2014      1     2  ...          NaN          NaN   678.107000\n",
              "1    2014      1     3  ...          NaN          NaN   312.618250\n",
              "2    2014      1     4  ...   678.107000          NaN   551.986000\n",
              "3    2014      2     5  ...   312.618250   678.107000   311.833000\n",
              "4    2014      2     6  ...   551.986000   312.618250    14.560000\n",
              "..    ...    ...   ...  ...          ...          ...          ...\n",
              "203  2017     12    48  ...  1029.662143   902.652286  2286.881714\n",
              "204  2017     12    49  ...  1152.482667  1029.662143  1465.734000\n",
              "205  2017     12    50  ...  2286.881714  1152.482667   773.303167\n",
              "206  2017     12    51  ...  1465.734000  2286.881714  1212.340500\n",
              "207  2017     12    52  ...   773.303167  1465.734000  1009.391200\n",
              "\n",
              "[208 rows x 15 columns]"
            ]
          },
          "metadata": {
            "tags": []
          },
          "execution_count": 292
        }
      ]
    },
    {
      "cell_type": "code",
      "metadata": {
        "id": "xoSCc-i2E50-"
      },
      "source": [
        "DAT = DAT.dropna()"
      ],
      "execution_count": 293,
      "outputs": []
    },
    {
      "cell_type": "code",
      "metadata": {
        "id": "FEvCqRGUQZgr",
        "colab": {
          "base_uri": "https://localhost:8080/"
        },
        "outputId": "f8feac68-941d-419f-8241-8b308cbbe34c"
      },
      "source": [
        "# separa os dados em normatizados e originais\n",
        "DAT_OLD=[]\n",
        "DAT_OLD=DAT.copy()\n",
        "DAT=Normatiza(DAT)"
      ],
      "execution_count": 294,
      "outputs": [
        {
          "output_type": "stream",
          "text": [
            "/usr/local/lib/python3.7/dist-packages/ipykernel_launcher.py:9: SettingWithCopyWarning: \n",
            "A value is trying to be set on a copy of a slice from a DataFrame.\n",
            "Try using .loc[row_indexer,col_indexer] = value instead\n",
            "\n",
            "See the caveats in the documentation: https://pandas.pydata.org/pandas-docs/stable/user_guide/indexing.html#returning-a-view-versus-a-copy\n",
            "  if __name__ == '__main__':\n"
          ],
          "name": "stderr"
        }
      ]
    },
    {
      "cell_type": "code",
      "metadata": {
        "colab": {
          "base_uri": "https://localhost:8080/"
        },
        "id": "Xei_98_KVeLE",
        "outputId": "e27670dd-157c-4a94-fb4c-54e2b3f677a2"
      },
      "source": [
        "DAT.shape"
      ],
      "execution_count": 295,
      "outputs": [
        {
          "output_type": "execute_result",
          "data": {
            "text/plain": [
              "(156, 15)"
            ]
          },
          "metadata": {
            "tags": []
          },
          "execution_count": 295
        }
      ]
    },
    {
      "cell_type": "code",
      "metadata": {
        "id": "ko4Xo7pvQZgr"
      },
      "source": [
        "# separa os dados em treino e teste\n",
        "#train=DAT.sample(frac=0.8,random_state=None) \n",
        "#test=DAT.drop(train.index)\n",
        "test=DAT[DAT['Year'] == 1]\n",
        "train=DAT.drop(test.index)"
      ],
      "execution_count": 296,
      "outputs": []
    },
    {
      "cell_type": "code",
      "metadata": {
        "id": "gRkrs_tA4Pzk",
        "colab": {
          "base_uri": "https://localhost:8080/"
        },
        "outputId": "1e2c4259-aaf1-44d5-fcb7-f28519c61b10"
      },
      "source": [
        "print(test.shape)\n",
        "print(train.shape)"
      ],
      "execution_count": 297,
      "outputs": [
        {
          "output_type": "stream",
          "text": [
            "(53, 15)\n",
            "(103, 15)\n"
          ],
          "name": "stdout"
        }
      ]
    },
    {
      "cell_type": "code",
      "metadata": {
        "id": "a3oj0KTF9Udb",
        "colab": {
          "base_uri": "https://localhost:8080/",
          "height": 35
        },
        "outputId": "c4ce578c-02df-4d13-b004-6222ad08e4b7"
      },
      "source": [
        "'''\n",
        "total_rows = test.count\n",
        "print(total_rows)\n",
        "'''"
      ],
      "execution_count": 298,
      "outputs": [
        {
          "output_type": "execute_result",
          "data": {
            "application/vnd.google.colaboratory.intrinsic+json": {
              "type": "string"
            },
            "text/plain": [
              "'\\ntotal_rows = test.count\\nprint(total_rows)\\n'"
            ]
          },
          "metadata": {
            "tags": []
          },
          "execution_count": 298
        }
      ]
    },
    {
      "cell_type": "code",
      "metadata": {
        "id": "02ArvMOIQZgs"
      },
      "source": [
        "# obtem as variaveis independentes (treino e teste)\n",
        "x_train=train.iloc[:,[3,4,5,6,8,9,10,11,12,13]]\n",
        "x_test=test.iloc[:,[3,4,5,6,8,9,10,11,12,13]]\n",
        "X_OLD=DAT_OLD.iloc[:,[3,4,5,6,8,9,10,11,12,13]]"
      ],
      "execution_count": 299,
      "outputs": []
    },
    {
      "cell_type": "code",
      "metadata": {
        "id": "YjdV-f-tMkqg",
        "colab": {
          "base_uri": "https://localhost:8080/",
          "height": 204
        },
        "outputId": "dc1df3f8-1524-4575-f71c-a55355a2ea4c"
      },
      "source": [
        "x_train.head()"
      ],
      "execution_count": 300,
      "outputs": [
        {
          "output_type": "execute_result",
          "data": {
            "text/html": [
              "<div>\n",
              "<style scoped>\n",
              "    .dataframe tbody tr th:only-of-type {\n",
              "        vertical-align: middle;\n",
              "    }\n",
              "\n",
              "    .dataframe tbody tr th {\n",
              "        vertical-align: top;\n",
              "    }\n",
              "\n",
              "    .dataframe thead th {\n",
              "        text-align: right;\n",
              "    }\n",
              "</style>\n",
              "<table border=\"1\" class=\"dataframe\">\n",
              "  <thead>\n",
              "    <tr style=\"text-align: right;\">\n",
              "      <th></th>\n",
              "      <th>Year Sales</th>\n",
              "      <th>Month Sales</th>\n",
              "      <th>Week Sales</th>\n",
              "      <th>Week Discout count</th>\n",
              "      <th>t-52</th>\n",
              "      <th>t-51</th>\n",
              "      <th>t-50</th>\n",
              "      <th>t-1</th>\n",
              "      <th>t-2</th>\n",
              "      <th>t-3</th>\n",
              "    </tr>\n",
              "  </thead>\n",
              "  <tbody>\n",
              "    <tr>\n",
              "      <th>52</th>\n",
              "      <td>-1.000000</td>\n",
              "      <td>-0.919104</td>\n",
              "      <td>-0.892777</td>\n",
              "      <td>-0.981292</td>\n",
              "      <td>-0.495031</td>\n",
              "      <td>-0.773173</td>\n",
              "      <td>-0.591011</td>\n",
              "      <td>-0.346214</td>\n",
              "      <td>-0.435374</td>\n",
              "      <td>0.781707</td>\n",
              "    </tr>\n",
              "    <tr>\n",
              "      <th>53</th>\n",
              "      <td>-0.828404</td>\n",
              "      <td>-0.857109</td>\n",
              "      <td>-0.958278</td>\n",
              "      <td>-0.912695</td>\n",
              "      <td>-0.773173</td>\n",
              "      <td>-0.591011</td>\n",
              "      <td>-0.773771</td>\n",
              "      <td>-0.601245</td>\n",
              "      <td>-0.346214</td>\n",
              "      <td>-0.435374</td>\n",
              "    </tr>\n",
              "    <tr>\n",
              "      <th>54</th>\n",
              "      <td>-0.656807</td>\n",
              "      <td>-0.795113</td>\n",
              "      <td>-0.875177</td>\n",
              "      <td>-0.844098</td>\n",
              "      <td>-0.591011</td>\n",
              "      <td>-0.773771</td>\n",
              "      <td>-1.000000</td>\n",
              "      <td>-0.708803</td>\n",
              "      <td>-0.601245</td>\n",
              "      <td>-0.346214</td>\n",
              "    </tr>\n",
              "    <tr>\n",
              "      <th>55</th>\n",
              "      <td>-0.914202</td>\n",
              "      <td>-0.888106</td>\n",
              "      <td>-0.793215</td>\n",
              "      <td>-0.918931</td>\n",
              "      <td>-0.773771</td>\n",
              "      <td>-1.000000</td>\n",
              "      <td>-0.333922</td>\n",
              "      <td>-0.782557</td>\n",
              "      <td>-0.708803</td>\n",
              "      <td>-0.601245</td>\n",
              "    </tr>\n",
              "    <tr>\n",
              "      <th>56</th>\n",
              "      <td>-0.485211</td>\n",
              "      <td>-0.935357</td>\n",
              "      <td>-0.850683</td>\n",
              "      <td>-0.887751</td>\n",
              "      <td>-1.000000</td>\n",
              "      <td>-0.333922</td>\n",
              "      <td>-0.993775</td>\n",
              "      <td>0.427691</td>\n",
              "      <td>-0.782557</td>\n",
              "      <td>-0.708803</td>\n",
              "    </tr>\n",
              "  </tbody>\n",
              "</table>\n",
              "</div>"
            ],
            "text/plain": [
              "    Year Sales  Month Sales  Week Sales  ...       t-1       t-2       t-3\n",
              "52   -1.000000    -0.919104   -0.892777  ... -0.346214 -0.435374  0.781707\n",
              "53   -0.828404    -0.857109   -0.958278  ... -0.601245 -0.346214 -0.435374\n",
              "54   -0.656807    -0.795113   -0.875177  ... -0.708803 -0.601245 -0.346214\n",
              "55   -0.914202    -0.888106   -0.793215  ... -0.782557 -0.708803 -0.601245\n",
              "56   -0.485211    -0.935357   -0.850683  ...  0.427691 -0.782557 -0.708803\n",
              "\n",
              "[5 rows x 10 columns]"
            ]
          },
          "metadata": {
            "tags": []
          },
          "execution_count": 300
        }
      ]
    },
    {
      "cell_type": "code",
      "metadata": {
        "id": "QQQyRXq4QZgs"
      },
      "source": [
        "# obtem a sales (treino e teste)\n",
        "Index=[11]\n",
        "y_train=train.iloc[:,Index]\n",
        "y_test=test.iloc[:,Index]\n",
        "Y_OLD=DAT_OLD.iloc[:,Index]"
      ],
      "execution_count": 301,
      "outputs": []
    },
    {
      "cell_type": "code",
      "metadata": {
        "colab": {
          "base_uri": "https://localhost:8080/"
        },
        "id": "u82G1R96ibBx",
        "outputId": "84b13888-5e44-4f26-9b73-f8cd68bd4a27"
      },
      "source": [
        "Hidden_Neurons = range(5,40)\n",
        "RScore =[]\n",
        "\n",
        "\n",
        "for HN in Hidden_Neurons:\n",
        "  model = MLPRegressor(solver='adam',activation='tanh',alpha=1e-5,hidden_layer_sizes=(HN),max_iter=1500,random_state=1)\n",
        "  model.fit(x_train, y_train)\n",
        "  y_calc_train=model.predict(x_train)\n",
        "  y_calc_test=model.predict(x_test)\n",
        "  test_R2=r2_score(y_test,y_calc_test)\n",
        "  train_R2=r2_score(y_train,y_calc_train)\n",
        "  RScore.append([HN,train_R2, test_R2])"
      ],
      "execution_count": 302,
      "outputs": [
        {
          "output_type": "stream",
          "text": [
            "/usr/local/lib/python3.7/dist-packages/sklearn/neural_network/_multilayer_perceptron.py:1342: DataConversionWarning: A column-vector y was passed when a 1d array was expected. Please change the shape of y to (n_samples, ), for example using ravel().\n",
            "  y = column_or_1d(y, warn=True)\n",
            "/usr/local/lib/python3.7/dist-packages/sklearn/neural_network/_multilayer_perceptron.py:1342: DataConversionWarning: A column-vector y was passed when a 1d array was expected. Please change the shape of y to (n_samples, ), for example using ravel().\n",
            "  y = column_or_1d(y, warn=True)\n",
            "/usr/local/lib/python3.7/dist-packages/sklearn/neural_network/_multilayer_perceptron.py:1342: DataConversionWarning: A column-vector y was passed when a 1d array was expected. Please change the shape of y to (n_samples, ), for example using ravel().\n",
            "  y = column_or_1d(y, warn=True)\n",
            "/usr/local/lib/python3.7/dist-packages/sklearn/neural_network/_multilayer_perceptron.py:1342: DataConversionWarning: A column-vector y was passed when a 1d array was expected. Please change the shape of y to (n_samples, ), for example using ravel().\n",
            "  y = column_or_1d(y, warn=True)\n",
            "/usr/local/lib/python3.7/dist-packages/sklearn/neural_network/_multilayer_perceptron.py:1342: DataConversionWarning: A column-vector y was passed when a 1d array was expected. Please change the shape of y to (n_samples, ), for example using ravel().\n",
            "  y = column_or_1d(y, warn=True)\n",
            "/usr/local/lib/python3.7/dist-packages/sklearn/neural_network/_multilayer_perceptron.py:1342: DataConversionWarning: A column-vector y was passed when a 1d array was expected. Please change the shape of y to (n_samples, ), for example using ravel().\n",
            "  y = column_or_1d(y, warn=True)\n",
            "/usr/local/lib/python3.7/dist-packages/sklearn/neural_network/_multilayer_perceptron.py:1342: DataConversionWarning: A column-vector y was passed when a 1d array was expected. Please change the shape of y to (n_samples, ), for example using ravel().\n",
            "  y = column_or_1d(y, warn=True)\n",
            "/usr/local/lib/python3.7/dist-packages/sklearn/neural_network/_multilayer_perceptron.py:1342: DataConversionWarning: A column-vector y was passed when a 1d array was expected. Please change the shape of y to (n_samples, ), for example using ravel().\n",
            "  y = column_or_1d(y, warn=True)\n",
            "/usr/local/lib/python3.7/dist-packages/sklearn/neural_network/_multilayer_perceptron.py:1342: DataConversionWarning: A column-vector y was passed when a 1d array was expected. Please change the shape of y to (n_samples, ), for example using ravel().\n",
            "  y = column_or_1d(y, warn=True)\n",
            "/usr/local/lib/python3.7/dist-packages/sklearn/neural_network/_multilayer_perceptron.py:1342: DataConversionWarning: A column-vector y was passed when a 1d array was expected. Please change the shape of y to (n_samples, ), for example using ravel().\n",
            "  y = column_or_1d(y, warn=True)\n",
            "/usr/local/lib/python3.7/dist-packages/sklearn/neural_network/_multilayer_perceptron.py:1342: DataConversionWarning: A column-vector y was passed when a 1d array was expected. Please change the shape of y to (n_samples, ), for example using ravel().\n",
            "  y = column_or_1d(y, warn=True)\n",
            "/usr/local/lib/python3.7/dist-packages/sklearn/neural_network/_multilayer_perceptron.py:1342: DataConversionWarning: A column-vector y was passed when a 1d array was expected. Please change the shape of y to (n_samples, ), for example using ravel().\n",
            "  y = column_or_1d(y, warn=True)\n",
            "/usr/local/lib/python3.7/dist-packages/sklearn/neural_network/_multilayer_perceptron.py:1342: DataConversionWarning: A column-vector y was passed when a 1d array was expected. Please change the shape of y to (n_samples, ), for example using ravel().\n",
            "  y = column_or_1d(y, warn=True)\n",
            "/usr/local/lib/python3.7/dist-packages/sklearn/neural_network/_multilayer_perceptron.py:1342: DataConversionWarning: A column-vector y was passed when a 1d array was expected. Please change the shape of y to (n_samples, ), for example using ravel().\n",
            "  y = column_or_1d(y, warn=True)\n",
            "/usr/local/lib/python3.7/dist-packages/sklearn/neural_network/_multilayer_perceptron.py:1342: DataConversionWarning: A column-vector y was passed when a 1d array was expected. Please change the shape of y to (n_samples, ), for example using ravel().\n",
            "  y = column_or_1d(y, warn=True)\n",
            "/usr/local/lib/python3.7/dist-packages/sklearn/neural_network/_multilayer_perceptron.py:1342: DataConversionWarning: A column-vector y was passed when a 1d array was expected. Please change the shape of y to (n_samples, ), for example using ravel().\n",
            "  y = column_or_1d(y, warn=True)\n",
            "/usr/local/lib/python3.7/dist-packages/sklearn/neural_network/_multilayer_perceptron.py:1342: DataConversionWarning: A column-vector y was passed when a 1d array was expected. Please change the shape of y to (n_samples, ), for example using ravel().\n",
            "  y = column_or_1d(y, warn=True)\n",
            "/usr/local/lib/python3.7/dist-packages/sklearn/neural_network/_multilayer_perceptron.py:1342: DataConversionWarning: A column-vector y was passed when a 1d array was expected. Please change the shape of y to (n_samples, ), for example using ravel().\n",
            "  y = column_or_1d(y, warn=True)\n",
            "/usr/local/lib/python3.7/dist-packages/sklearn/neural_network/_multilayer_perceptron.py:1342: DataConversionWarning: A column-vector y was passed when a 1d array was expected. Please change the shape of y to (n_samples, ), for example using ravel().\n",
            "  y = column_or_1d(y, warn=True)\n",
            "/usr/local/lib/python3.7/dist-packages/sklearn/neural_network/_multilayer_perceptron.py:1342: DataConversionWarning: A column-vector y was passed when a 1d array was expected. Please change the shape of y to (n_samples, ), for example using ravel().\n",
            "  y = column_or_1d(y, warn=True)\n",
            "/usr/local/lib/python3.7/dist-packages/sklearn/neural_network/_multilayer_perceptron.py:1342: DataConversionWarning: A column-vector y was passed when a 1d array was expected. Please change the shape of y to (n_samples, ), for example using ravel().\n",
            "  y = column_or_1d(y, warn=True)\n",
            "/usr/local/lib/python3.7/dist-packages/sklearn/neural_network/_multilayer_perceptron.py:1342: DataConversionWarning: A column-vector y was passed when a 1d array was expected. Please change the shape of y to (n_samples, ), for example using ravel().\n",
            "  y = column_or_1d(y, warn=True)\n",
            "/usr/local/lib/python3.7/dist-packages/sklearn/neural_network/_multilayer_perceptron.py:1342: DataConversionWarning: A column-vector y was passed when a 1d array was expected. Please change the shape of y to (n_samples, ), for example using ravel().\n",
            "  y = column_or_1d(y, warn=True)\n",
            "/usr/local/lib/python3.7/dist-packages/sklearn/neural_network/_multilayer_perceptron.py:1342: DataConversionWarning: A column-vector y was passed when a 1d array was expected. Please change the shape of y to (n_samples, ), for example using ravel().\n",
            "  y = column_or_1d(y, warn=True)\n",
            "/usr/local/lib/python3.7/dist-packages/sklearn/neural_network/_multilayer_perceptron.py:1342: DataConversionWarning: A column-vector y was passed when a 1d array was expected. Please change the shape of y to (n_samples, ), for example using ravel().\n",
            "  y = column_or_1d(y, warn=True)\n",
            "/usr/local/lib/python3.7/dist-packages/sklearn/neural_network/_multilayer_perceptron.py:1342: DataConversionWarning: A column-vector y was passed when a 1d array was expected. Please change the shape of y to (n_samples, ), for example using ravel().\n",
            "  y = column_or_1d(y, warn=True)\n",
            "/usr/local/lib/python3.7/dist-packages/sklearn/neural_network/_multilayer_perceptron.py:1342: DataConversionWarning: A column-vector y was passed when a 1d array was expected. Please change the shape of y to (n_samples, ), for example using ravel().\n",
            "  y = column_or_1d(y, warn=True)\n",
            "/usr/local/lib/python3.7/dist-packages/sklearn/neural_network/_multilayer_perceptron.py:1342: DataConversionWarning: A column-vector y was passed when a 1d array was expected. Please change the shape of y to (n_samples, ), for example using ravel().\n",
            "  y = column_or_1d(y, warn=True)\n",
            "/usr/local/lib/python3.7/dist-packages/sklearn/neural_network/_multilayer_perceptron.py:1342: DataConversionWarning: A column-vector y was passed when a 1d array was expected. Please change the shape of y to (n_samples, ), for example using ravel().\n",
            "  y = column_or_1d(y, warn=True)\n",
            "/usr/local/lib/python3.7/dist-packages/sklearn/neural_network/_multilayer_perceptron.py:1342: DataConversionWarning: A column-vector y was passed when a 1d array was expected. Please change the shape of y to (n_samples, ), for example using ravel().\n",
            "  y = column_or_1d(y, warn=True)\n",
            "/usr/local/lib/python3.7/dist-packages/sklearn/neural_network/_multilayer_perceptron.py:1342: DataConversionWarning: A column-vector y was passed when a 1d array was expected. Please change the shape of y to (n_samples, ), for example using ravel().\n",
            "  y = column_or_1d(y, warn=True)\n",
            "/usr/local/lib/python3.7/dist-packages/sklearn/neural_network/_multilayer_perceptron.py:1342: DataConversionWarning: A column-vector y was passed when a 1d array was expected. Please change the shape of y to (n_samples, ), for example using ravel().\n",
            "  y = column_or_1d(y, warn=True)\n",
            "/usr/local/lib/python3.7/dist-packages/sklearn/neural_network/_multilayer_perceptron.py:1342: DataConversionWarning: A column-vector y was passed when a 1d array was expected. Please change the shape of y to (n_samples, ), for example using ravel().\n",
            "  y = column_or_1d(y, warn=True)\n",
            "/usr/local/lib/python3.7/dist-packages/sklearn/neural_network/_multilayer_perceptron.py:1342: DataConversionWarning: A column-vector y was passed when a 1d array was expected. Please change the shape of y to (n_samples, ), for example using ravel().\n",
            "  y = column_or_1d(y, warn=True)\n",
            "/usr/local/lib/python3.7/dist-packages/sklearn/neural_network/_multilayer_perceptron.py:1342: DataConversionWarning: A column-vector y was passed when a 1d array was expected. Please change the shape of y to (n_samples, ), for example using ravel().\n",
            "  y = column_or_1d(y, warn=True)\n"
          ],
          "name": "stderr"
        }
      ]
    },
    {
      "cell_type": "code",
      "metadata": {
        "colab": {
          "base_uri": "https://localhost:8080/"
        },
        "id": "M99dFQZtih9Q",
        "outputId": "5bf6b480-fbee-40e5-a44a-2cd88b9f5432"
      },
      "source": [
        "RScore = pd.DataFrame(RScore,columns=['Neurons','R2 Train','R2 Test'])\n",
        "print(RScore)"
      ],
      "execution_count": 303,
      "outputs": [
        {
          "output_type": "stream",
          "text": [
            "    Neurons  R2 Train   R2 Test\n",
            "0         5  0.932933  0.886786\n",
            "1         6  0.863307  0.426397\n",
            "2         7  0.885290  0.222665\n",
            "3         8  0.927899  0.863464\n",
            "4         9  0.769136  0.495725\n",
            "5        10  0.887853  0.667669\n",
            "6        11  0.932342  0.919140\n",
            "7        12  0.857627  0.602629\n",
            "8        13  0.946358  0.934073\n",
            "9        14  0.935899  0.789531\n",
            "10       15  0.901095  0.712678\n",
            "11       16  0.936276  0.827452\n",
            "12       17  0.918592  0.802311\n",
            "13       18  0.960030  0.788917\n",
            "14       19  0.903349  0.760832\n",
            "15       20  0.976683  0.975809\n",
            "16       21  0.980147  0.945895\n",
            "17       22  0.940817  0.850710\n",
            "18       23  0.990647  0.988823\n",
            "19       24  0.950794  0.927673\n",
            "20       25  0.968453  0.950439\n",
            "21       26  0.941172  0.946504\n",
            "22       27  0.984461  0.971106\n",
            "23       28  0.977545  0.942615\n",
            "24       29  0.967952  0.891344\n",
            "25       30  0.970048  0.869449\n",
            "26       31  0.974179  0.963485\n",
            "27       32  0.958724  0.877627\n",
            "28       33  0.978936  0.878782\n",
            "29       34  0.974553  0.963866\n",
            "30       35  0.968505  0.906885\n",
            "31       36  0.977127  0.929963\n",
            "32       37  0.981441  0.973790\n",
            "33       38  0.965117  0.956359\n",
            "34       39  0.948773  0.859282\n"
          ],
          "name": "stdout"
        }
      ]
    },
    {
      "cell_type": "code",
      "metadata": {
        "id": "BpNn_IogQZgt"
      },
      "source": [
        "# define a rede neural \n",
        "model = MLPRegressor(solver='adam',activation='tanh',max_iter=1500,\n",
        "                     alpha=1e-5,hidden_layer_sizes=(23),random_state=1)"
      ],
      "execution_count": 304,
      "outputs": []
    },
    {
      "cell_type": "code",
      "metadata": {
        "id": "Y8BteMytQZgu",
        "colab": {
          "base_uri": "https://localhost:8080/"
        },
        "outputId": "49945180-967e-47ca-a4fe-97ff1e76fc1a"
      },
      "source": [
        "# treina a rede neural\n",
        "model.fit(x_train, y_train)"
      ],
      "execution_count": 305,
      "outputs": [
        {
          "output_type": "stream",
          "text": [
            "/usr/local/lib/python3.7/dist-packages/sklearn/neural_network/_multilayer_perceptron.py:1342: DataConversionWarning: A column-vector y was passed when a 1d array was expected. Please change the shape of y to (n_samples, ), for example using ravel().\n",
            "  y = column_or_1d(y, warn=True)\n"
          ],
          "name": "stderr"
        },
        {
          "output_type": "execute_result",
          "data": {
            "text/plain": [
              "MLPRegressor(activation='tanh', alpha=1e-05, batch_size='auto', beta_1=0.9,\n",
              "             beta_2=0.999, early_stopping=False, epsilon=1e-08,\n",
              "             hidden_layer_sizes=23, learning_rate='constant',\n",
              "             learning_rate_init=0.001, max_fun=15000, max_iter=1500,\n",
              "             momentum=0.9, n_iter_no_change=10, nesterovs_momentum=True,\n",
              "             power_t=0.5, random_state=1, shuffle=True, solver='adam',\n",
              "             tol=0.0001, validation_fraction=0.1, verbose=False,\n",
              "             warm_start=False)"
            ]
          },
          "metadata": {
            "tags": []
          },
          "execution_count": 305
        }
      ]
    },
    {
      "cell_type": "code",
      "metadata": {
        "id": "smaQ8uSGQZgv"
      },
      "source": [
        "# usa a rede neural treina em calculos para treino e teste\n",
        "y_calc_train=model.predict(x_train)\n",
        "y_calc_test=model.predict(x_test)"
      ],
      "execution_count": 306,
      "outputs": []
    },
    {
      "cell_type": "code",
      "metadata": {
        "id": "goF4lWLlQZgv"
      },
      "source": [
        "# transforma a saida da rede em dataframe \n",
        "y_calc_train=pd.DataFrame(y_calc_train)\n",
        "y_calc_test=pd.DataFrame(y_calc_test)\n",
        "col_names=list(y_train)\n",
        "y_calc_train.columns = col_names\n",
        "y_calc_test.columns = col_names"
      ],
      "execution_count": 307,
      "outputs": []
    },
    {
      "cell_type": "code",
      "metadata": {
        "id": "aVJXbUosQZgw",
        "colab": {
          "base_uri": "https://localhost:8080/"
        },
        "outputId": "efb9ae5c-b24d-46ae-bcdd-5869ad08bad9"
      },
      "source": [
        "# transforma dos dados calculados na forma original (nao normatizado)\n",
        "y_calc_train=Original(y_calc_train,Y_OLD)\n",
        "y_calc_test=Original(y_calc_test,Y_OLD)\n",
        "\n",
        "y_obs_train=Original(y_train,Y_OLD)\n",
        "y_obs_test=Original(y_test,Y_OLD)"
      ],
      "execution_count": 308,
      "outputs": [
        {
          "output_type": "stream",
          "text": [
            "/usr/local/lib/python3.7/dist-packages/ipykernel_launcher.py:9: SettingWithCopyWarning: \n",
            "A value is trying to be set on a copy of a slice from a DataFrame.\n",
            "Try using .loc[row_indexer,col_indexer] = value instead\n",
            "\n",
            "See the caveats in the documentation: https://pandas.pydata.org/pandas-docs/stable/user_guide/indexing.html#returning-a-view-versus-a-copy\n",
            "  if __name__ == '__main__':\n"
          ],
          "name": "stderr"
        }
      ]
    },
    {
      "cell_type": "code",
      "metadata": {
        "id": "RZrkRZ3GQZgz",
        "colab": {
          "base_uri": "https://localhost:8080/",
          "height": 279
        },
        "outputId": "e785a7a0-7f9c-4c72-8f3a-9648e733e230"
      },
      "source": [
        "# expressa os dois dados em figura\n",
        "fig = plt.figure()\n",
        "ax1 = fig.add_subplot(111)\n",
        "\n",
        "ax1.scatter(y_obs_test,y_calc_test, s=10, c='b', marker=\"s\", label='teste')\n",
        "ax1.scatter(y_obs_train,y_calc_train, s=10, c='r', marker=\"o\", label='treino')\n",
        "plt.legend(loc='upper left')\n",
        "plt.ylabel('Sales Calc')\n",
        "plt.xlabel('Sales Obs')\n",
        "plt.show()"
      ],
      "execution_count": 309,
      "outputs": [
        {
          "output_type": "display_data",
          "data": {
            "image/png": "[encoded data removed]",
            "text/plain": [
              "<Figure size 432x288 with 1 Axes>"
            ]
          },
          "metadata": {
            "tags": [],
            "needs_background": "light"
          }
        }
      ]
    },
    {
      "cell_type": "code",
      "metadata": {
        "id": "aj_XteG2QZg0",
        "colab": {
          "base_uri": "https://localhost:8080/"
        },
        "outputId": "72930349-28fd-44dc-8c03-056a894fac18"
      },
      "source": [
        "mse=mean_squared_error(y_obs_test,y_calc_test)\n",
        "print(\"MSE teste=\",mse)\n",
        "R2=r2_score(y_obs_test,y_calc_test)\n",
        "print(\"R^2 teste=\",R2)"
      ],
      "execution_count": 310,
      "outputs": [
        {
          "output_type": "stream",
          "text": [
            "MSE teste= 2281.4894142258872\n",
            "R^2 teste= 0.9888227905997644\n"
          ],
          "name": "stdout"
        }
      ]
    },
    {
      "cell_type": "code",
      "metadata": {
        "id": "efLwFnUqQZg1",
        "colab": {
          "base_uri": "https://localhost:8080/"
        },
        "outputId": "d4392028-43d2-450a-95a2-17ff6727f5e2"
      },
      "source": [
        "mse=mean_squared_error(y_obs_train,y_calc_train)\n",
        "print(\"MSE treino=\",mse)\n",
        "R2=r2_score(y_obs_train,y_calc_train)\n",
        "print(\"R^2 treino=\",R2)"
      ],
      "execution_count": 311,
      "outputs": [
        {
          "output_type": "stream",
          "text": [
            "MSE treino= 2667.902887745798\n",
            "R^2 treino= 0.9906469322384654\n"
          ],
          "name": "stdout"
        }
      ]
    },
    {
      "cell_type": "code",
      "metadata": {
        "id": "LUWKDtFzoTgp"
      },
      "source": [
        "y_train= []\n",
        "y_test= []\n",
        "y_calc_train =np.array(y_calc_train).ravel()\n",
        "y_calc_test = np.array(y_calc_test).ravel()\n",
        "for yi in y_calc_train:\n",
        "  y_train.append(yi)\n",
        "for yi in y_calc_test:\n",
        "  y_test.append(yi)\n",
        "\n",
        "y_obs= []\n",
        "y_obs_train =np.array(y_obs_train).ravel()\n",
        "y_obs_test = np.array(y_obs_test).ravel()\n",
        "for yi in y_obs_train:\n",
        "  y_obs.append(yi)\n",
        "for yi in y_calc_test:\n",
        "  y_obs.append(yi)"
      ],
      "execution_count": 312,
      "outputs": []
    },
    {
      "cell_type": "code",
      "metadata": {
        "colab": {
          "base_uri": "https://localhost:8080/",
          "height": 265
        },
        "id": "CdTNQewlooah",
        "outputId": "acb28f7d-dc3b-4a38-94a3-f52755dfbd21"
      },
      "source": [
        "rows = len(y_obs)\n",
        "ntrain = len(y_obs_train)\n",
        "t = np.array(range(rows))\n",
        "t_train= t[0:ntrain].copy()\n",
        "#t_test=t[(ntrain-1):].copy()\n",
        "t_test=t[ntrain:].copy()\n",
        "line1, =plt.plot(range(len(y_obs)),y_obs,c='r')\n",
        "line2, =plt.plot(t_train,y_train, c='b')\n",
        "line3, =plt.plot(t_test,y_test, c='g')\n",
        "plt.legend([line1,line2,line3],['true','ANN train','ANN test'],loc='upper right')\n",
        "plt.show()"
      ],
      "execution_count": 313,
      "outputs": [
        {
          "output_type": "display_data",
          "data": {
            "image/png": "[encoded data removed]",
            "text/plain": [
              "<Figure size 432x288 with 1 Axes>"
            ]
          },
          "metadata": {
            "tags": [],
            "needs_background": "light"
          }
        }
      ]
    },
    {
      "cell_type": "code",
      "metadata": {
        "colab": {
          "base_uri": "https://localhost:8080/"
        },
        "id": "O8fUChZ5Acvo",
        "outputId": "e11d9be0-5dbf-4a35-e926-e0db4adb10a7"
      },
      "source": [
        "print(len(y_obs))\n",
        "print(len(y_train))"
      ],
      "execution_count": 314,
      "outputs": [
        {
          "output_type": "stream",
          "text": [
            "156\n",
            "103\n"
          ],
          "name": "stdout"
        }
      ]
    }
  ]
}